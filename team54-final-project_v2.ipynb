{
 "cells": [
  {
   "cell_type": "markdown",
   "metadata": {},
   "source": [
    "# CS513: Theory & Practice of Data Cleaning\n",
    "## Final Project Phase-2\n",
    "Angie Meeks: ameek4@illinois.edu\n",
    "\n",
    "Matthew Endo: endo1@illinois.edu\n",
    "\n",
    "Henry Moss: htmoss2@illinois.edu\n"
   ]
  },
  {
   "cell_type": "markdown",
   "metadata": {},
   "source": [
    "This project will use Los Angeles AirBnb Listings from  http://insideairbnb.com/get-the-data.html\n",
    "\n",
    "This data has already been cleansed and aggregated by Airbnb, but further data cleaning can still be performed. \n",
    "\n",
    "Additionally, we will be using data from http://maps.latimes.com/neighborhoods/neighborhood/list/   to better group the Airbnb listings by Neighborhood.\n",
    "\n",
    "The original Airbnb files do have a reference to neighbrourhood cleansed but think that the neighborhoods listing in the latimes website is a better fit.  "
   ]
  },
  {
   "cell_type": "code",
   "execution_count": 1,
   "metadata": {
    "collapsed": true
   },
   "outputs": [],
   "source": [
    "# @begin LA_AirBnB\n",
    "# @in listings.csv \n",
    "# @in regions.csv\n",
    "\n",
    "import csv\n",
    "import re\n",
    "import requests\n",
    "page = requests.get(\"http://maps.latimes.com/neighborhoods/neighborhood/list/\")\n",
    "# Import modules used in this tutorial\n",
    "import os\n",
    "import sqlite3\n",
    "import matplotlib.pyplot as plt\n",
    "import seaborn as sns\n",
    "\n",
    "import pandas as pd\n",
    "from pathlib import Path\n"
   ]
  },
  {
   "cell_type": "code",
   "execution_count": 2,
   "metadata": {
    "collapsed": true
   },
   "outputs": [],
   "source": [
    "%matplotlib inline\n",
    "import numpy as np\n",
    "import matplotlib.pyplot as plt\n",
    "plt.style.use('seaborn-white')"
   ]
  },
  {
   "cell_type": "markdown",
   "metadata": {},
   "source": [
    "-- if runnning for the first time use %load_ext sql"
   ]
  },
  {
   "cell_type": "code",
   "execution_count": 3,
   "metadata": {
    "collapsed": true
   },
   "outputs": [],
   "source": [
    "%reload_ext sql"
   ]
  },
  {
   "cell_type": "code",
   "execution_count": 4,
   "metadata": {
    "collapsed": true
   },
   "outputs": [],
   "source": [
    "# Remove existing .db files to avoid errors\n",
    "if os.path.exists('los_angeles_airbnb.db') == True:\n",
    "    os.remove('los_angeles_airbnb.db')\n",
    "\n"
   ]
  },
  {
   "cell_type": "code",
   "execution_count": 5,
   "metadata": {
    "collapsed": true
   },
   "outputs": [],
   "source": [
    "\n",
    "# file names\n",
    "db_name = 'los_angeles_airbnb.db'\n",
    "listings_name = 'listings_airbnb_los_angeles.csv'\n",
    "regions_name = 'regions.csv'\n",
    "\n"
   ]
  },
  {
   "cell_type": "code",
   "execution_count": 6,
   "metadata": {},
   "outputs": [
    {
     "data": {
      "text/html": [
       "<div>\n",
       "<style scoped>\n",
       "    .dataframe tbody tr th:only-of-type {\n",
       "        vertical-align: middle;\n",
       "    }\n",
       "\n",
       "    .dataframe tbody tr th {\n",
       "        vertical-align: top;\n",
       "    }\n",
       "\n",
       "    .dataframe thead th {\n",
       "        text-align: right;\n",
       "    }\n",
       "</style>\n",
       "<table border=\"1\" class=\"dataframe\">\n",
       "  <thead>\n",
       "    <tr style=\"text-align: right;\">\n",
       "      <th></th>\n",
       "      <th>id</th>\n",
       "      <th>listing_url</th>\n",
       "      <th>scrape_id</th>\n",
       "      <th>last_scraped</th>\n",
       "      <th>name</th>\n",
       "      <th>description</th>\n",
       "      <th>neighborhood_overview</th>\n",
       "      <th>picture_url</th>\n",
       "      <th>host_id</th>\n",
       "      <th>host_url</th>\n",
       "      <th>...</th>\n",
       "      <th>review_scores_communication</th>\n",
       "      <th>review_scores_location</th>\n",
       "      <th>review_scores_value</th>\n",
       "      <th>license</th>\n",
       "      <th>instant_bookable</th>\n",
       "      <th>calculated_host_listings_count</th>\n",
       "      <th>calculated_host_listings_count_entire_homes</th>\n",
       "      <th>calculated_host_listings_count_private_rooms</th>\n",
       "      <th>calculated_host_listings_count_shared_rooms</th>\n",
       "      <th>reviews_per_month</th>\n",
       "    </tr>\n",
       "  </thead>\n",
       "  <tbody>\n",
       "    <tr>\n",
       "      <th>0</th>\n",
       "      <td>109</td>\n",
       "      <td>https://www.airbnb.com/rooms/109</td>\n",
       "      <td>20210705235432</td>\n",
       "      <td>2021-07-06</td>\n",
       "      <td>Amazing bright elegant condo park front *UPGRA...</td>\n",
       "      <td>*** Unit upgraded with new bamboo flooring, br...</td>\n",
       "      <td>NaN</td>\n",
       "      <td>https://a0.muscache.com/pictures/4321499/1da98...</td>\n",
       "      <td>521</td>\n",
       "      <td>https://www.airbnb.com/users/show/521</td>\n",
       "      <td>...</td>\n",
       "      <td>4.00</td>\n",
       "      <td>5.00</td>\n",
       "      <td>4.00</td>\n",
       "      <td>NaN</td>\n",
       "      <td>f</td>\n",
       "      <td>1</td>\n",
       "      <td>1</td>\n",
       "      <td>0</td>\n",
       "      <td>0</td>\n",
       "      <td>0.02</td>\n",
       "    </tr>\n",
       "    <tr>\n",
       "      <th>1</th>\n",
       "      <td>2708</td>\n",
       "      <td>https://www.airbnb.com/rooms/2708</td>\n",
       "      <td>20210705235432</td>\n",
       "      <td>2021-07-06</td>\n",
       "      <td>Runyon Canyon | Beau Furn Mirror Mini-Suite Fi...</td>\n",
       "      <td>Run Runyon Canyon, Our Gym &amp; Sauna Open &lt;br /&gt;...</td>\n",
       "      <td>Walk and run to Runyon Canyon, it is open!&lt;br ...</td>\n",
       "      <td>https://a0.muscache.com/pictures/miso/Hosting-...</td>\n",
       "      <td>3008</td>\n",
       "      <td>https://www.airbnb.com/users/show/3008</td>\n",
       "      <td>...</td>\n",
       "      <td>4.97</td>\n",
       "      <td>5.00</td>\n",
       "      <td>4.83</td>\n",
       "      <td>NaN</td>\n",
       "      <td>t</td>\n",
       "      <td>2</td>\n",
       "      <td>0</td>\n",
       "      <td>2</td>\n",
       "      <td>0</td>\n",
       "      <td>0.70</td>\n",
       "    </tr>\n",
       "    <tr>\n",
       "      <th>2</th>\n",
       "      <td>2732</td>\n",
       "      <td>https://www.airbnb.com/rooms/2732</td>\n",
       "      <td>20210705235432</td>\n",
       "      <td>2021-07-06</td>\n",
       "      <td>Zen Life at the Beach</td>\n",
       "      <td>An oasis of tranquility awaits you.&lt;br /&gt;&lt;br /...</td>\n",
       "      <td>This is the best part of Santa Monica. Quiet, ...</td>\n",
       "      <td>https://a0.muscache.com/pictures/1082974/0f74c...</td>\n",
       "      <td>3041</td>\n",
       "      <td>https://www.airbnb.com/users/show/3041</td>\n",
       "      <td>...</td>\n",
       "      <td>4.70</td>\n",
       "      <td>4.90</td>\n",
       "      <td>4.40</td>\n",
       "      <td>228269</td>\n",
       "      <td>f</td>\n",
       "      <td>2</td>\n",
       "      <td>1</td>\n",
       "      <td>1</td>\n",
       "      <td>0</td>\n",
       "      <td>0.39</td>\n",
       "    </tr>\n",
       "    <tr>\n",
       "      <th>3</th>\n",
       "      <td>2864</td>\n",
       "      <td>https://www.airbnb.com/rooms/2864</td>\n",
       "      <td>20210705235432</td>\n",
       "      <td>2021-07-06</td>\n",
       "      <td>* Beautiful Master Suite/Jacuzzi Tub/*</td>\n",
       "      <td>Centrally located.... Furnished with King Size...</td>\n",
       "      <td>What makes the neighborhood unique is that the...</td>\n",
       "      <td>https://a0.muscache.com/pictures/23817858/de20...</td>\n",
       "      <td>3207</td>\n",
       "      <td>https://www.airbnb.com/users/show/3207</td>\n",
       "      <td>...</td>\n",
       "      <td>NaN</td>\n",
       "      <td>NaN</td>\n",
       "      <td>NaN</td>\n",
       "      <td>NaN</td>\n",
       "      <td>t</td>\n",
       "      <td>1</td>\n",
       "      <td>1</td>\n",
       "      <td>0</td>\n",
       "      <td>0</td>\n",
       "      <td>NaN</td>\n",
       "    </tr>\n",
       "    <tr>\n",
       "      <th>4</th>\n",
       "      <td>3021</td>\n",
       "      <td>https://www.airbnb.com/rooms/3021</td>\n",
       "      <td>20210705235432</td>\n",
       "      <td>2021-07-07</td>\n",
       "      <td>Hollywood Hills Zen Modern style Apt/Guesthouse</td>\n",
       "      <td>A very Modern Hollywood Hills Zen style galler...</td>\n",
       "      <td>This is the famous Hollywood hills.. Historica...</td>\n",
       "      <td>https://a0.muscache.com/pictures/5147dcd2-efad...</td>\n",
       "      <td>3415</td>\n",
       "      <td>https://www.airbnb.com/users/show/3415</td>\n",
       "      <td>...</td>\n",
       "      <td>4.30</td>\n",
       "      <td>4.64</td>\n",
       "      <td>4.00</td>\n",
       "      <td>NaN</td>\n",
       "      <td>f</td>\n",
       "      <td>4</td>\n",
       "      <td>1</td>\n",
       "      <td>3</td>\n",
       "      <td>0</td>\n",
       "      <td>0.42</td>\n",
       "    </tr>\n",
       "    <tr>\n",
       "      <th>5</th>\n",
       "      <td>5728</td>\n",
       "      <td>https://www.airbnb.com/rooms/5728</td>\n",
       "      <td>20210705235432</td>\n",
       "      <td>2021-07-06</td>\n",
       "      <td>Tiny Home in Artistic Oasis near Venice and LAX</td>\n",
       "      <td>Our home is located near Venice Beach without ...</td>\n",
       "      <td>Our neighborhood is very quiet and save. There...</td>\n",
       "      <td>https://a0.muscache.com/pictures/7a29d275-f293...</td>\n",
       "      <td>9171</td>\n",
       "      <td>https://www.airbnb.com/users/show/9171</td>\n",
       "      <td>...</td>\n",
       "      <td>4.92</td>\n",
       "      <td>4.79</td>\n",
       "      <td>4.70</td>\n",
       "      <td>NaN</td>\n",
       "      <td>f</td>\n",
       "      <td>4</td>\n",
       "      <td>1</td>\n",
       "      <td>3</td>\n",
       "      <td>0</td>\n",
       "      <td>4.54</td>\n",
       "    </tr>\n",
       "    <tr>\n",
       "      <th>6</th>\n",
       "      <td>5729</td>\n",
       "      <td>https://www.airbnb.com/rooms/5729</td>\n",
       "      <td>20210705235432</td>\n",
       "      <td>2021-07-06</td>\n",
       "      <td>Zen Room with Floating Bed near Venice and LAX</td>\n",
       "      <td>Our home is located near Venice Beach without ...</td>\n",
       "      <td>Our neighborhood is very quiet and save. There...</td>\n",
       "      <td>https://a0.muscache.com/pictures/f48e3ea8-2075...</td>\n",
       "      <td>9171</td>\n",
       "      <td>https://www.airbnb.com/users/show/9171</td>\n",
       "      <td>...</td>\n",
       "      <td>4.89</td>\n",
       "      <td>4.76</td>\n",
       "      <td>4.71</td>\n",
       "      <td>NaN</td>\n",
       "      <td>f</td>\n",
       "      <td>4</td>\n",
       "      <td>1</td>\n",
       "      <td>3</td>\n",
       "      <td>0</td>\n",
       "      <td>4.95</td>\n",
       "    </tr>\n",
       "    <tr>\n",
       "      <th>7</th>\n",
       "      <td>5843</td>\n",
       "      <td>https://www.airbnb.com/rooms/5843</td>\n",
       "      <td>20210705235432</td>\n",
       "      <td>2021-07-06</td>\n",
       "      <td>Artist Oasis near Venice Beach w/ Beautiful Ga...</td>\n",
       "      <td>Do you want a taste of Paradise?&lt;br /&gt;Our one-...</td>\n",
       "      <td>Our neighborhood is very quiet and save. There...</td>\n",
       "      <td>https://a0.muscache.com/pictures/25d657aa-2529...</td>\n",
       "      <td>9171</td>\n",
       "      <td>https://www.airbnb.com/users/show/9171</td>\n",
       "      <td>...</td>\n",
       "      <td>4.92</td>\n",
       "      <td>4.75</td>\n",
       "      <td>4.53</td>\n",
       "      <td>HSR19-002149</td>\n",
       "      <td>f</td>\n",
       "      <td>4</td>\n",
       "      <td>1</td>\n",
       "      <td>3</td>\n",
       "      <td>0</td>\n",
       "      <td>1.04</td>\n",
       "    </tr>\n",
       "    <tr>\n",
       "      <th>8</th>\n",
       "      <td>6931</td>\n",
       "      <td>https://www.airbnb.com/rooms/6931</td>\n",
       "      <td>20210705235432</td>\n",
       "      <td>2021-07-06</td>\n",
       "      <td>Run Runyon | Beau Furn Rm Dres Rm/Walk-In Clst...</td>\n",
       "      <td>Runyon Canyon.&lt;br /&gt;&lt;br /&gt;Gym &amp; Sauna Now Open...</td>\n",
       "      <td>We are in the middle of one of the great citie...</td>\n",
       "      <td>https://a0.muscache.com/pictures/37075299/eb4b...</td>\n",
       "      <td>3008</td>\n",
       "      <td>https://www.airbnb.com/users/show/3008</td>\n",
       "      <td>...</td>\n",
       "      <td>4.88</td>\n",
       "      <td>4.79</td>\n",
       "      <td>4.71</td>\n",
       "      <td>NaN</td>\n",
       "      <td>t</td>\n",
       "      <td>2</td>\n",
       "      <td>0</td>\n",
       "      <td>2</td>\n",
       "      <td>0</td>\n",
       "      <td>1.22</td>\n",
       "    </tr>\n",
       "    <tr>\n",
       "      <th>9</th>\n",
       "      <td>7992</td>\n",
       "      <td>https://www.airbnb.com/rooms/7992</td>\n",
       "      <td>20210705235432</td>\n",
       "      <td>2021-07-07</td>\n",
       "      <td>Quiet,Walkable Area/Sanitized/CozySpot</td>\n",
       "      <td>This is not a party house.  No smoking of any ...</td>\n",
       "      <td>Atwater Village has a variety of great shops a...</td>\n",
       "      <td>https://a0.muscache.com/pictures/8b955c3f-9f7c...</td>\n",
       "      <td>22363</td>\n",
       "      <td>https://www.airbnb.com/users/show/22363</td>\n",
       "      <td>...</td>\n",
       "      <td>4.98</td>\n",
       "      <td>4.94</td>\n",
       "      <td>4.89</td>\n",
       "      <td>HSR19-003514</td>\n",
       "      <td>f</td>\n",
       "      <td>2</td>\n",
       "      <td>2</td>\n",
       "      <td>0</td>\n",
       "      <td>0</td>\n",
       "      <td>4.14</td>\n",
       "    </tr>\n",
       "  </tbody>\n",
       "</table>\n",
       "<p>10 rows × 74 columns</p>\n",
       "</div>"
      ],
      "text/plain": [
       "     id                        listing_url       scrape_id last_scraped  \\\n",
       "0   109   https://www.airbnb.com/rooms/109  20210705235432   2021-07-06   \n",
       "1  2708  https://www.airbnb.com/rooms/2708  20210705235432   2021-07-06   \n",
       "2  2732  https://www.airbnb.com/rooms/2732  20210705235432   2021-07-06   \n",
       "3  2864  https://www.airbnb.com/rooms/2864  20210705235432   2021-07-06   \n",
       "4  3021  https://www.airbnb.com/rooms/3021  20210705235432   2021-07-07   \n",
       "5  5728  https://www.airbnb.com/rooms/5728  20210705235432   2021-07-06   \n",
       "6  5729  https://www.airbnb.com/rooms/5729  20210705235432   2021-07-06   \n",
       "7  5843  https://www.airbnb.com/rooms/5843  20210705235432   2021-07-06   \n",
       "8  6931  https://www.airbnb.com/rooms/6931  20210705235432   2021-07-06   \n",
       "9  7992  https://www.airbnb.com/rooms/7992  20210705235432   2021-07-07   \n",
       "\n",
       "                                                name  \\\n",
       "0  Amazing bright elegant condo park front *UPGRA...   \n",
       "1  Runyon Canyon | Beau Furn Mirror Mini-Suite Fi...   \n",
       "2                              Zen Life at the Beach   \n",
       "3             * Beautiful Master Suite/Jacuzzi Tub/*   \n",
       "4    Hollywood Hills Zen Modern style Apt/Guesthouse   \n",
       "5    Tiny Home in Artistic Oasis near Venice and LAX   \n",
       "6     Zen Room with Floating Bed near Venice and LAX   \n",
       "7  Artist Oasis near Venice Beach w/ Beautiful Ga...   \n",
       "8  Run Runyon | Beau Furn Rm Dres Rm/Walk-In Clst...   \n",
       "9             Quiet,Walkable Area/Sanitized/CozySpot   \n",
       "\n",
       "                                         description  \\\n",
       "0  *** Unit upgraded with new bamboo flooring, br...   \n",
       "1  Run Runyon Canyon, Our Gym & Sauna Open <br />...   \n",
       "2  An oasis of tranquility awaits you.<br /><br /...   \n",
       "3  Centrally located.... Furnished with King Size...   \n",
       "4  A very Modern Hollywood Hills Zen style galler...   \n",
       "5  Our home is located near Venice Beach without ...   \n",
       "6  Our home is located near Venice Beach without ...   \n",
       "7  Do you want a taste of Paradise?<br />Our one-...   \n",
       "8  Runyon Canyon.<br /><br />Gym & Sauna Now Open...   \n",
       "9  This is not a party house.  No smoking of any ...   \n",
       "\n",
       "                               neighborhood_overview  \\\n",
       "0                                                NaN   \n",
       "1  Walk and run to Runyon Canyon, it is open!<br ...   \n",
       "2  This is the best part of Santa Monica. Quiet, ...   \n",
       "3  What makes the neighborhood unique is that the...   \n",
       "4  This is the famous Hollywood hills.. Historica...   \n",
       "5  Our neighborhood is very quiet and save. There...   \n",
       "6  Our neighborhood is very quiet and save. There...   \n",
       "7  Our neighborhood is very quiet and save. There...   \n",
       "8  We are in the middle of one of the great citie...   \n",
       "9  Atwater Village has a variety of great shops a...   \n",
       "\n",
       "                                         picture_url  host_id  \\\n",
       "0  https://a0.muscache.com/pictures/4321499/1da98...      521   \n",
       "1  https://a0.muscache.com/pictures/miso/Hosting-...     3008   \n",
       "2  https://a0.muscache.com/pictures/1082974/0f74c...     3041   \n",
       "3  https://a0.muscache.com/pictures/23817858/de20...     3207   \n",
       "4  https://a0.muscache.com/pictures/5147dcd2-efad...     3415   \n",
       "5  https://a0.muscache.com/pictures/7a29d275-f293...     9171   \n",
       "6  https://a0.muscache.com/pictures/f48e3ea8-2075...     9171   \n",
       "7  https://a0.muscache.com/pictures/25d657aa-2529...     9171   \n",
       "8  https://a0.muscache.com/pictures/37075299/eb4b...     3008   \n",
       "9  https://a0.muscache.com/pictures/8b955c3f-9f7c...    22363   \n",
       "\n",
       "                                  host_url  ... review_scores_communication  \\\n",
       "0    https://www.airbnb.com/users/show/521  ...                        4.00   \n",
       "1   https://www.airbnb.com/users/show/3008  ...                        4.97   \n",
       "2   https://www.airbnb.com/users/show/3041  ...                        4.70   \n",
       "3   https://www.airbnb.com/users/show/3207  ...                         NaN   \n",
       "4   https://www.airbnb.com/users/show/3415  ...                        4.30   \n",
       "5   https://www.airbnb.com/users/show/9171  ...                        4.92   \n",
       "6   https://www.airbnb.com/users/show/9171  ...                        4.89   \n",
       "7   https://www.airbnb.com/users/show/9171  ...                        4.92   \n",
       "8   https://www.airbnb.com/users/show/3008  ...                        4.88   \n",
       "9  https://www.airbnb.com/users/show/22363  ...                        4.98   \n",
       "\n",
       "  review_scores_location review_scores_value       license instant_bookable  \\\n",
       "0                   5.00                4.00           NaN                f   \n",
       "1                   5.00                4.83           NaN                t   \n",
       "2                   4.90                4.40        228269                f   \n",
       "3                    NaN                 NaN           NaN                t   \n",
       "4                   4.64                4.00           NaN                f   \n",
       "5                   4.79                4.70           NaN                f   \n",
       "6                   4.76                4.71           NaN                f   \n",
       "7                   4.75                4.53  HSR19-002149                f   \n",
       "8                   4.79                4.71           NaN                t   \n",
       "9                   4.94                4.89  HSR19-003514                f   \n",
       "\n",
       "  calculated_host_listings_count calculated_host_listings_count_entire_homes  \\\n",
       "0                              1                                           1   \n",
       "1                              2                                           0   \n",
       "2                              2                                           1   \n",
       "3                              1                                           1   \n",
       "4                              4                                           1   \n",
       "5                              4                                           1   \n",
       "6                              4                                           1   \n",
       "7                              4                                           1   \n",
       "8                              2                                           0   \n",
       "9                              2                                           2   \n",
       "\n",
       "  calculated_host_listings_count_private_rooms  \\\n",
       "0                                            0   \n",
       "1                                            2   \n",
       "2                                            1   \n",
       "3                                            0   \n",
       "4                                            3   \n",
       "5                                            3   \n",
       "6                                            3   \n",
       "7                                            3   \n",
       "8                                            2   \n",
       "9                                            0   \n",
       "\n",
       "  calculated_host_listings_count_shared_rooms reviews_per_month  \n",
       "0                                           0              0.02  \n",
       "1                                           0              0.70  \n",
       "2                                           0              0.39  \n",
       "3                                           0               NaN  \n",
       "4                                           0              0.42  \n",
       "5                                           0              4.54  \n",
       "6                                           0              4.95  \n",
       "7                                           0              1.04  \n",
       "8                                           0              1.22  \n",
       "9                                           0              4.14  \n",
       "\n",
       "[10 rows x 74 columns]"
      ]
     },
     "execution_count": 6,
     "metadata": {},
     "output_type": "execute_result"
    }
   ],
   "source": [
    "# Load data and view the first ten rows using pandas\n",
    "df = pd.read_csv(listings_name)\n",
    "df[0:10]"
   ]
  },
  {
   "cell_type": "markdown",
   "metadata": {},
   "source": [
    "Create the database and the tables\n",
    "Load data into a pandas dataframe and then populate Sqlite tables\n"
   ]
  },
  {
   "cell_type": "code",
   "execution_count": 7,
   "metadata": {
    "collapsed": true
   },
   "outputs": [],
   "source": [
    "# @begin create_database @desc create SQL database for LA AirBnB data\n",
    "# Create database connection and cursor\n",
    "con_1 = sqlite3.connect(db_name)\n",
    "cur_1 = con_1.cursor()"
   ]
  },
  {
   "cell_type": "code",
   "execution_count": 8,
   "metadata": {
    "collapsed": true
   },
   "outputs": [],
   "source": [
    "# @in listings.csv \n",
    "# Create database table from pandas DataFrame object created earlier\n",
    "df.to_sql('listings', con_1)"
   ]
  },
  {
   "cell_type": "code",
   "execution_count": 9,
   "metadata": {
    "collapsed": true
   },
   "outputs": [],
   "source": [
    "# Save and close database connection\n",
    "con_1.commit()\n",
    "con_1.close()"
   ]
  },
  {
   "cell_type": "code",
   "execution_count": 10,
   "metadata": {
    "collapsed": true
   },
   "outputs": [],
   "source": [
    "# Create database connection\n",
    "%reload_ext sql\n",
    "#%load_ext lib.sqlite.sqlite_evaluate_magic\n",
    "con_2 = 'sqlite:///' + os.path.expanduser(db_name)\n",
    "%sql $con_2"
   ]
  },
  {
   "cell_type": "code",
   "execution_count": 11,
   "metadata": {},
   "outputs": [
    {
     "name": "stdout",
     "output_type": "stream",
     "text": [
      " * sqlite:///los_angeles_airbnb.db\n",
      "Done.\n"
     ]
    },
    {
     "data": {
      "text/html": [
       "<table>\n",
       "    <tr>\n",
       "        <th>count(*)</th>\n",
       "    </tr>\n",
       "    <tr>\n",
       "        <td>31596</td>\n",
       "    </tr>\n",
       "</table>"
      ],
      "text/plain": [
       "[(31596,)]"
      ]
     },
     "execution_count": 11,
     "metadata": {},
     "output_type": "execute_result"
    }
   ],
   "source": [
    "%%sql\n",
    "select count(*) from listings;"
   ]
  },
  {
   "cell_type": "markdown",
   "metadata": {},
   "source": [
    "This count matches the csv file"
   ]
  },
  {
   "cell_type": "code",
   "execution_count": 12,
   "metadata": {
    "collapsed": true
   },
   "outputs": [],
   "source": [
    "# @in regions.csv\n"
   ]
  },
  {
   "cell_type": "code",
   "execution_count": 14,
   "metadata": {},
   "outputs": [
    {
     "name": "stdout",
     "output_type": "stream",
     "text": [
      " * sqlite:///los_angeles_airbnb.db\n",
      "Done.\n"
     ]
    },
    {
     "data": {
      "text/plain": [
       "[]"
      ]
     },
     "execution_count": 14,
     "metadata": {},
     "output_type": "execute_result"
    }
   ],
   "source": [
    "%%sql\n",
    "CREATE TABLE  IF NOT EXISTS  regions (City, Region);"
   ]
  },
  {
   "cell_type": "code",
   "execution_count": 16,
   "metadata": {
    "collapsed": true
   },
   "outputs": [],
   "source": [
    "\n",
    "regions = pd.read_csv(regions_name, header=0)\n",
    "regions.to_sql('regions', con_2, if_exists='append', index = False)\n"
   ]
  },
  {
   "cell_type": "code",
   "execution_count": 17,
   "metadata": {},
   "outputs": [
    {
     "name": "stdout",
     "output_type": "stream",
     "text": [
      " * sqlite:///los_angeles_airbnb.db\n",
      "Done.\n"
     ]
    },
    {
     "data": {
      "text/html": [
       "<table>\n",
       "    <tr>\n",
       "        <th>count()</th>\n",
       "    </tr>\n",
       "    <tr>\n",
       "        <td>272</td>\n",
       "    </tr>\n",
       "</table>"
      ],
      "text/plain": [
       "[(272,)]"
      ]
     },
     "execution_count": 17,
     "metadata": {},
     "output_type": "execute_result"
    }
   ],
   "source": [
    "%%sql\n",
    "select count() from regions;"
   ]
  },
  {
   "cell_type": "markdown",
   "metadata": {},
   "source": [
    "This count matches the LA.csv file"
   ]
  },
  {
   "cell_type": "code",
   "execution_count": 18,
   "metadata": {
    "collapsed": true
   },
   "outputs": [],
   "source": [
    "# @out LA_airbnb.db(listings_table)\n",
    "# @out LA_airbnb.db(regions_table)\n",
    "# @end create_database"
   ]
  },
  {
   "cell_type": "markdown",
   "metadata": {},
   "source": [
    "# Examine neighbourhoods and regions data "
   ]
  },
  {
   "cell_type": "code",
   "execution_count": 19,
   "metadata": {
    "collapsed": true
   },
   "outputs": [],
   "source": [
    "# @begin identify_null_neighbourhoods @desc identify listings with null in neighbourhood column \n",
    "# @in LA_airbnb.db(listings_table)"
   ]
  },
  {
   "cell_type": "code",
   "execution_count": 20,
   "metadata": {},
   "outputs": [
    {
     "name": "stdout",
     "output_type": "stream",
     "text": [
      " * sqlite:///los_angeles_airbnb.db\n",
      "Done.\n"
     ]
    },
    {
     "data": {
      "text/html": [
       "<table>\n",
       "    <tr>\n",
       "        <th>count(*)</th>\n",
       "    </tr>\n",
       "    <tr>\n",
       "        <td>12134</td>\n",
       "    </tr>\n",
       "</table>"
      ],
      "text/plain": [
       "[(12134,)]"
      ]
     },
     "execution_count": 20,
     "metadata": {},
     "output_type": "execute_result"
    }
   ],
   "source": [
    "%%sql\n",
    "select count(*) from listings where neighbourhood is null;"
   ]
  },
  {
   "cell_type": "code",
   "execution_count": 21,
   "metadata": {},
   "outputs": [
    {
     "name": "stdout",
     "output_type": "stream",
     "text": [
      " * sqlite:///los_angeles_airbnb.db\n",
      "Done.\n"
     ]
    },
    {
     "data": {
      "text/html": [
       "<table>\n",
       "    <tr>\n",
       "        <th>count(*)</th>\n",
       "    </tr>\n",
       "    <tr>\n",
       "        <td>0</td>\n",
       "    </tr>\n",
       "</table>"
      ],
      "text/plain": [
       "[(0,)]"
      ]
     },
     "execution_count": 21,
     "metadata": {},
     "output_type": "execute_result"
    }
   ],
   "source": [
    "%%sql\n",
    "select count(*) from listings where neighbourhood_cleansed is null;"
   ]
  },
  {
   "cell_type": "code",
   "execution_count": 22,
   "metadata": {},
   "outputs": [
    {
     "name": "stdout",
     "output_type": "stream",
     "text": [
      " * sqlite:///los_angeles_airbnb.db\n",
      "Done.\n"
     ]
    },
    {
     "data": {
      "text/html": [
       "<table>\n",
       "    <tr>\n",
       "        <th>neighbourhood</th>\n",
       "        <th>neighbourhood_cleansed</th>\n",
       "    </tr>\n",
       "    <tr>\n",
       "        <td>None</td>\n",
       "        <td>Culver City</td>\n",
       "    </tr>\n",
       "    <tr>\n",
       "        <td>Los Angeles, California, United States</td>\n",
       "        <td>Hollywood</td>\n",
       "    </tr>\n",
       "    <tr>\n",
       "        <td>Santa Monica, California, United States</td>\n",
       "        <td>Santa Monica</td>\n",
       "    </tr>\n",
       "    <tr>\n",
       "        <td>Bellflower, California, United States</td>\n",
       "        <td>Bellflower</td>\n",
       "    </tr>\n",
       "    <tr>\n",
       "        <td>Los Angeles, California, United States</td>\n",
       "        <td>Hollywood Hills West</td>\n",
       "    </tr>\n",
       "    <tr>\n",
       "        <td>Los Angeles, California, United States</td>\n",
       "        <td>Del Rey</td>\n",
       "    </tr>\n",
       "    <tr>\n",
       "        <td>Los Angeles, California, United States</td>\n",
       "        <td>Del Rey</td>\n",
       "    </tr>\n",
       "    <tr>\n",
       "        <td>Los Angeles, California, United States</td>\n",
       "        <td>Del Rey</td>\n",
       "    </tr>\n",
       "    <tr>\n",
       "        <td>Los Angeles, California, United States</td>\n",
       "        <td>Hollywood</td>\n",
       "    </tr>\n",
       "    <tr>\n",
       "        <td>Los Angeles, California, United States</td>\n",
       "        <td>Atwater Village</td>\n",
       "    </tr>\n",
       "    <tr>\n",
       "        <td>None</td>\n",
       "        <td>Long Beach</td>\n",
       "    </tr>\n",
       "    <tr>\n",
       "        <td>None</td>\n",
       "        <td>Venice</td>\n",
       "    </tr>\n",
       "    <tr>\n",
       "        <td>Los Angeles, California, United States</td>\n",
       "        <td>Mid-Wilshire</td>\n",
       "    </tr>\n",
       "    <tr>\n",
       "        <td>None</td>\n",
       "        <td>Gardena</td>\n",
       "    </tr>\n",
       "    <tr>\n",
       "        <td>None</td>\n",
       "        <td>Hollywood Hills</td>\n",
       "    </tr>\n",
       "    <tr>\n",
       "        <td>Venice, California, United States</td>\n",
       "        <td>Venice</td>\n",
       "    </tr>\n",
       "    <tr>\n",
       "        <td>None</td>\n",
       "        <td>Mid-Wilshire</td>\n",
       "    </tr>\n",
       "    <tr>\n",
       "        <td>Redondo Beach, California, United States</td>\n",
       "        <td>Redondo Beach</td>\n",
       "    </tr>\n",
       "    <tr>\n",
       "        <td>None</td>\n",
       "        <td>Hollywood Hills</td>\n",
       "    </tr>\n",
       "    <tr>\n",
       "        <td>Redondo Beach, California, United States</td>\n",
       "        <td>Redondo Beach</td>\n",
       "    </tr>\n",
       "</table>"
      ],
      "text/plain": [
       "[(None, 'Culver City'),\n",
       " ('Los Angeles, California, United States', 'Hollywood'),\n",
       " ('Santa Monica, California, United States', 'Santa Monica'),\n",
       " ('Bellflower, California, United States', 'Bellflower'),\n",
       " ('Los Angeles, California, United States', 'Hollywood Hills West'),\n",
       " ('Los Angeles, California, United States', 'Del Rey'),\n",
       " ('Los Angeles, California, United States', 'Del Rey'),\n",
       " ('Los Angeles, California, United States', 'Del Rey'),\n",
       " ('Los Angeles, California, United States', 'Hollywood'),\n",
       " ('Los Angeles, California, United States', 'Atwater Village'),\n",
       " (None, 'Long Beach'),\n",
       " (None, 'Venice'),\n",
       " ('Los Angeles, California, United States', 'Mid-Wilshire'),\n",
       " (None, 'Gardena'),\n",
       " (None, 'Hollywood Hills'),\n",
       " ('Venice, California, United States', 'Venice'),\n",
       " (None, 'Mid-Wilshire'),\n",
       " ('Redondo Beach, California, United States', 'Redondo Beach'),\n",
       " (None, 'Hollywood Hills'),\n",
       " ('Redondo Beach, California, United States', 'Redondo Beach')]"
      ]
     },
     "execution_count": 22,
     "metadata": {},
     "output_type": "execute_result"
    }
   ],
   "source": [
    "%%sql\n",
    "select neighbourhood, neighbourhood_cleansed from listings limit 20;"
   ]
  },
  {
   "cell_type": "code",
   "execution_count": 24,
   "metadata": {},
   "outputs": [
    {
     "name": "stdout",
     "output_type": "stream",
     "text": [
      " * sqlite:///los_angeles_airbnb.db\n",
      "Done.\n"
     ]
    },
    {
     "data": {
      "text/html": [
       "<table>\n",
       "    <tr>\n",
       "        <th>City</th>\n",
       "        <th>Region</th>\n",
       "    </tr>\n",
       "    <tr>\n",
       "        <td>Acton</td>\n",
       "        <td>Antelope Valley</td>\n",
       "    </tr>\n",
       "    <tr>\n",
       "        <td>Adams-Normandie</td>\n",
       "        <td>South L.A.</td>\n",
       "    </tr>\n",
       "    <tr>\n",
       "        <td>Agoura Hills</td>\n",
       "        <td>Santa Monica Mountains</td>\n",
       "    </tr>\n",
       "</table>"
      ],
      "text/plain": [
       "[('Acton', 'Antelope Valley'),\n",
       " ('Adams-Normandie', 'South L.A.'),\n",
       " ('Agoura Hills', 'Santa Monica Mountains')]"
      ]
     },
     "execution_count": 24,
     "metadata": {},
     "output_type": "execute_result"
    }
   ],
   "source": [
    "%%sql\n",
    "select * from regions limit 3;"
   ]
  },
  {
   "cell_type": "code",
   "execution_count": 25,
   "metadata": {
    "collapsed": true
   },
   "outputs": [],
   "source": [
    "# @out LA_airbnb.db(listings_table)\n",
    "# @end identify_null_neighbourhoods"
   ]
  },
  {
   "cell_type": "markdown",
   "metadata": {},
   "source": [
    "# We will join listings.neighbourhood_cleansed to region.city\n"
   ]
  },
  {
   "cell_type": "code",
   "execution_count": 26,
   "metadata": {
    "collapsed": true
   },
   "outputs": [],
   "source": [
    "# @begin identify_listing_neighbourhoods_not_in_regions @desc identify the listings that have neighbourhoods that have no corresponding entry in regions table\n",
    "# @in LA_airbnb.db(listings_table)\n",
    "# @in LA_airbnb.db(regions_table)"
   ]
  },
  {
   "cell_type": "code",
   "execution_count": 27,
   "metadata": {},
   "outputs": [
    {
     "name": "stdout",
     "output_type": "stream",
     "text": [
      " * sqlite:///los_angeles_airbnb.db\n",
      "Done.\n"
     ]
    },
    {
     "data": {
      "text/html": [
       "<table>\n",
       "    <tr>\n",
       "        <th>COUNT(*)</th>\n",
       "    </tr>\n",
       "    <tr>\n",
       "        <td>35</td>\n",
       "    </tr>\n",
       "</table>"
      ],
      "text/plain": [
       "[(35,)]"
      ]
     },
     "execution_count": 27,
     "metadata": {},
     "output_type": "execute_result"
    }
   ],
   "source": [
    "%%sql\n",
    "SELECT COUNT(*) FROM (SELECT * FROM listings\n",
    "LEFT JOIN regions on listings.neighbourhood_cleansed = regions.City\n",
    "WHERE Region is NULL);\n"
   ]
  },
  {
   "cell_type": "code",
   "execution_count": 28,
   "metadata": {},
   "outputs": [
    {
     "name": "stdout",
     "output_type": "stream",
     "text": [
      " * sqlite:///los_angeles_airbnb.db\n",
      "Done.\n"
     ]
    },
    {
     "data": {
      "text/html": [
       "<table>\n",
       "    <tr>\n",
       "        <th>neighbourhood_cleansed</th>\n",
       "        <th>City</th>\n",
       "    </tr>\n",
       "    <tr>\n",
       "        <td>La Canada Flintridge</td>\n",
       "        <td>None</td>\n",
       "    </tr>\n",
       "    <tr>\n",
       "        <td>East Whittier</td>\n",
       "        <td>None</td>\n",
       "    </tr>\n",
       "</table>"
      ],
      "text/plain": [
       "[('La Canada Flintridge', None), ('East Whittier', None)]"
      ]
     },
     "execution_count": 28,
     "metadata": {},
     "output_type": "execute_result"
    }
   ],
   "source": [
    "%%sql\n",
    "SELECT distinct listings.neighbourhood_cleansed, regions.city FROM listings\n",
    "LEFT JOIN regions on listings.neighbourhood_cleansed = regions.City\n",
    "WHERE Region is NULL LIMIT 0, 49999;"
   ]
  },
  {
   "cell_type": "code",
   "execution_count": 29,
   "metadata": {},
   "outputs": [
    {
     "name": "stdout",
     "output_type": "stream",
     "text": [
      " * sqlite:///los_angeles_airbnb.db\n",
      "Done.\n"
     ]
    },
    {
     "data": {
      "text/html": [
       "<table>\n",
       "    <tr>\n",
       "        <th>City</th>\n",
       "    </tr>\n",
       "    <tr>\n",
       "        <td>La Cañada Flintridge</td>\n",
       "    </tr>\n",
       "</table>"
      ],
      "text/plain": [
       "[('La Cañada Flintridge',)]"
      ]
     },
     "execution_count": 29,
     "metadata": {},
     "output_type": "execute_result"
    }
   ],
   "source": [
    "%%sql\n",
    "select city from regions where city like '%Flintridge';"
   ]
  },
  {
   "cell_type": "markdown",
   "metadata": {},
   "source": [
    "We found two neighbourhoods not in the regions table: East Whittier and La Canada Flintridge. In 2012, East Whittier was changed from East La Mirada (which is in the regions table). La Canada Flintridge was not joined due to spelling differences in the neighbourhoods and regions table (one N had a tilde and other did not). \n",
    "\n"
   ]
  },
  {
   "cell_type": "markdown",
   "metadata": {},
   "source": [
    "We added East Whittier in the regions table with the region of \"Southeast\". changed the spelling of the La Canada Flintridge in the regions table to not have a tilde to match the spelling in the neighbourhoods table \n"
   ]
  },
  {
   "cell_type": "code",
   "execution_count": 30,
   "metadata": {
    "collapsed": true
   },
   "outputs": [],
   "source": [
    "# @in insert_east_whittier_in_regions"
   ]
  },
  {
   "cell_type": "code",
   "execution_count": 31,
   "metadata": {},
   "outputs": [
    {
     "name": "stdout",
     "output_type": "stream",
     "text": [
      " * sqlite:///los_angeles_airbnb.db\n",
      "1 rows affected.\n"
     ]
    },
    {
     "data": {
      "text/plain": [
       "[]"
      ]
     },
     "execution_count": 31,
     "metadata": {},
     "output_type": "execute_result"
    }
   ],
   "source": [
    "%%sql\n",
    "INSERT into regions values ('East Whittier','Southeast');\n"
   ]
  },
  {
   "cell_type": "code",
   "execution_count": 33,
   "metadata": {
    "collapsed": true
   },
   "outputs": [],
   "source": [
    "# @in change_flintridge_spelling_in_regions"
   ]
  },
  {
   "cell_type": "code",
   "execution_count": 34,
   "metadata": {},
   "outputs": [
    {
     "name": "stdout",
     "output_type": "stream",
     "text": [
      " * sqlite:///los_angeles_airbnb.db\n",
      "1 rows affected.\n"
     ]
    },
    {
     "data": {
      "text/plain": [
       "[]"
      ]
     },
     "execution_count": 34,
     "metadata": {},
     "output_type": "execute_result"
    }
   ],
   "source": [
    "%%sql\n",
    "update regions set city = 'La Canada Flintridge' where city like '%ada% Flint%';"
   ]
  },
  {
   "cell_type": "code",
   "execution_count": 35,
   "metadata": {},
   "outputs": [
    {
     "name": "stdout",
     "output_type": "stream",
     "text": [
      " * sqlite:///los_angeles_airbnb.db\n",
      "Done.\n"
     ]
    },
    {
     "data": {
      "text/html": [
       "<table>\n",
       "    <tr>\n",
       "        <th>COUNT(*)</th>\n",
       "    </tr>\n",
       "    <tr>\n",
       "        <td>0</td>\n",
       "    </tr>\n",
       "</table>"
      ],
      "text/plain": [
       "[(0,)]"
      ]
     },
     "execution_count": 35,
     "metadata": {},
     "output_type": "execute_result"
    }
   ],
   "source": [
    "%%sql\n",
    "SELECT COUNT(*) FROM (SELECT * FROM listings\n",
    "LEFT JOIN regions on listings.neighbourhood_cleansed = regions.City\n",
    "WHERE Region is NULL);"
   ]
  },
  {
   "cell_type": "code",
   "execution_count": 36,
   "metadata": {},
   "outputs": [
    {
     "name": "stdout",
     "output_type": "stream",
     "text": [
      " * sqlite:///los_angeles_airbnb.db\n",
      "Done.\n"
     ]
    },
    {
     "data": {
      "text/html": [
       "<table>\n",
       "    <tr>\n",
       "        <th>City</th>\n",
       "        <th>Region</th>\n",
       "    </tr>\n",
       "    <tr>\n",
       "        <td>La Canada Flintridge</td>\n",
       "        <td>Verdugos</td>\n",
       "    </tr>\n",
       "</table>"
      ],
      "text/plain": [
       "[('La Canada Flintridge', 'Verdugos')]"
      ]
     },
     "execution_count": 36,
     "metadata": {},
     "output_type": "execute_result"
    }
   ],
   "source": [
    "%%sql\n",
    "select * from regions where city like '%ada% Flint%';"
   ]
  },
  {
   "cell_type": "code",
   "execution_count": 37,
   "metadata": {
    "collapsed": true
   },
   "outputs": [],
   "source": [
    "# @out LA_airbnb.db(regions_table)_1\n",
    "# @end identify_listing_neighbourhoods_not_in_regions\n"
   ]
  },
  {
   "cell_type": "markdown",
   "metadata": {},
   "source": [
    "# Convert price to numeric"
   ]
  },
  {
   "cell_type": "code",
   "execution_count": 50,
   "metadata": {
    "collapsed": true
   },
   "outputs": [],
   "source": [
    "# @begin convert_dollars_to_int @desc convert the dollar amounts in price to ints\n",
    "# @in LA_airbnb.db(listings_table)"
   ]
  },
  {
   "cell_type": "code",
   "execution_count": 51,
   "metadata": {},
   "outputs": [
    {
     "name": "stdout",
     "output_type": "stream",
     "text": [
      " * sqlite:///los_angeles_airbnb.db\n",
      "Done.\n"
     ]
    },
    {
     "data": {
      "text/html": [
       "<table>\n",
       "    <tr>\n",
       "        <th>count(*)</th>\n",
       "    </tr>\n",
       "    <tr>\n",
       "        <td>0</td>\n",
       "    </tr>\n",
       "</table>"
      ],
      "text/plain": [
       "[(0,)]"
      ]
     },
     "execution_count": 51,
     "metadata": {},
     "output_type": "execute_result"
    }
   ],
   "source": [
    "%%sql\n",
    "select count(*) from listings where price is null;"
   ]
  },
  {
   "cell_type": "code",
   "execution_count": 52,
   "metadata": {},
   "outputs": [
    {
     "name": "stdout",
     "output_type": "stream",
     "text": [
      " * sqlite:///los_angeles_airbnb.db\n",
      "(sqlite3.OperationalError) duplicate column name: price_num\n",
      "[SQL: alter table listings add column price_num number;]\n",
      "(Background on this error at: http://sqlalche.me/e/e3q8)\n"
     ]
    }
   ],
   "source": [
    "%%sql\n",
    "alter table listings add column price_num number;"
   ]
  },
  {
   "cell_type": "code",
   "execution_count": 53,
   "metadata": {},
   "outputs": [
    {
     "name": "stdout",
     "output_type": "stream",
     "text": [
      " * sqlite:///los_angeles_airbnb.db\n",
      "Done.\n"
     ]
    },
    {
     "data": {
      "text/html": [
       "<table>\n",
       "    <tr>\n",
       "        <th>cast(replace(replace(price,&#x27;$&#x27;,&#x27;&#x27;), &#x27;,&#x27;,&#x27;&#x27;) as number)</th>\n",
       "    </tr>\n",
       "    <tr>\n",
       "        <td>115</td>\n",
       "    </tr>\n",
       "    <tr>\n",
       "        <td>74</td>\n",
       "    </tr>\n",
       "    <tr>\n",
       "        <td>165</td>\n",
       "    </tr>\n",
       "</table>"
      ],
      "text/plain": [
       "[(115,), (74,), (165,)]"
      ]
     },
     "execution_count": 53,
     "metadata": {},
     "output_type": "execute_result"
    }
   ],
   "source": [
    "%%sql\n",
    "select  cast(replace(replace(price,'$',''), ',','') as number) from listings limit 3;"
   ]
  },
  {
   "cell_type": "code",
   "execution_count": 54,
   "metadata": {},
   "outputs": [
    {
     "name": "stdout",
     "output_type": "stream",
     "text": [
      " * sqlite:///los_angeles_airbnb.db\n",
      "31596 rows affected.\n"
     ]
    },
    {
     "data": {
      "text/plain": [
       "[]"
      ]
     },
     "execution_count": 54,
     "metadata": {},
     "output_type": "execute_result"
    }
   ],
   "source": [
    "%%sql \n",
    "update listings set price_num = cast(replace(replace(price,'$',''), ',','') as number) ;"
   ]
  },
  {
   "cell_type": "code",
   "execution_count": 55,
   "metadata": {},
   "outputs": [
    {
     "name": "stdout",
     "output_type": "stream",
     "text": [
      " * sqlite:///los_angeles_airbnb.db\n",
      "Done.\n"
     ]
    },
    {
     "data": {
      "text/html": [
       "<table>\n",
       "    <tr>\n",
       "        <th>price</th>\n",
       "        <th>price_num</th>\n",
       "    </tr>\n",
       "    <tr>\n",
       "        <td>$115.00</td>\n",
       "        <td>115</td>\n",
       "    </tr>\n",
       "    <tr>\n",
       "        <td>$74.00</td>\n",
       "        <td>74</td>\n",
       "    </tr>\n",
       "    <tr>\n",
       "        <td>$165.00</td>\n",
       "        <td>165</td>\n",
       "    </tr>\n",
       "    <tr>\n",
       "        <td>$50.00</td>\n",
       "        <td>50</td>\n",
       "    </tr>\n",
       "    <tr>\n",
       "        <td>$118.00</td>\n",
       "        <td>118</td>\n",
       "    </tr>\n",
       "    <tr>\n",
       "        <td>$44.00</td>\n",
       "        <td>44</td>\n",
       "    </tr>\n",
       "    <tr>\n",
       "        <td>$71.00</td>\n",
       "        <td>71</td>\n",
       "    </tr>\n",
       "    <tr>\n",
       "        <td>$130.00</td>\n",
       "        <td>130</td>\n",
       "    </tr>\n",
       "    <tr>\n",
       "        <td>$86.00</td>\n",
       "        <td>86</td>\n",
       "    </tr>\n",
       "    <tr>\n",
       "        <td>$122.00</td>\n",
       "        <td>122</td>\n",
       "    </tr>\n",
       "</table>"
      ],
      "text/plain": [
       "[('$115.00', 115),\n",
       " ('$74.00', 74),\n",
       " ('$165.00', 165),\n",
       " ('$50.00', 50),\n",
       " ('$118.00', 118),\n",
       " ('$44.00', 44),\n",
       " ('$71.00', 71),\n",
       " ('$130.00', 130),\n",
       " ('$86.00', 86),\n",
       " ('$122.00', 122)]"
      ]
     },
     "execution_count": 55,
     "metadata": {},
     "output_type": "execute_result"
    }
   ],
   "source": [
    "%%sql\n",
    "select price, price_num from listings limit 10;"
   ]
  },
  {
   "cell_type": "code",
   "execution_count": null,
   "metadata": {
    "collapsed": true
   },
   "outputs": [],
   "source": [
    "# @out LA_airbnb.db(listings_table)_1\n",
    "# @end convert_dollars_to_int\n",
    "\n",
    "# @begin remove_0_price_listings @desc remove listings with 0 as the price\n",
    "# @in LA_airbnb.db(listings_table)_1"
   ]
  },
  {
   "cell_type": "code",
   "execution_count": 56,
   "metadata": {},
   "outputs": [
    {
     "name": "stdout",
     "output_type": "stream",
     "text": [
      " * sqlite:///los_angeles_airbnb.db\n",
      "Done.\n"
     ]
    },
    {
     "data": {
      "text/html": [
       "<table>\n",
       "    <tr>\n",
       "        <th>min(price_num)</th>\n",
       "        <th>max(price_num)</th>\n",
       "    </tr>\n",
       "    <tr>\n",
       "        <td>0</td>\n",
       "        <td>25000</td>\n",
       "    </tr>\n",
       "</table>"
      ],
      "text/plain": [
       "[(0, 25000)]"
      ]
     },
     "execution_count": 56,
     "metadata": {},
     "output_type": "execute_result"
    }
   ],
   "source": [
    "%%sql\n",
    "select min(price_num), max(price_num) from listings;"
   ]
  },
  {
   "cell_type": "markdown",
   "metadata": {},
   "source": [
    "Some Airbnb's have a price of 0"
   ]
  },
  {
   "cell_type": "code",
   "execution_count": 57,
   "metadata": {},
   "outputs": [
    {
     "name": "stdout",
     "output_type": "stream",
     "text": [
      " * sqlite:///los_angeles_airbnb.db\n",
      "Done.\n"
     ]
    },
    {
     "data": {
      "text/html": [
       "<table>\n",
       "    <tr>\n",
       "        <th>count(*)</th>\n",
       "    </tr>\n",
       "    <tr>\n",
       "        <td>16</td>\n",
       "    </tr>\n",
       "</table>"
      ],
      "text/plain": [
       "[(16,)]"
      ]
     },
     "execution_count": 57,
     "metadata": {},
     "output_type": "execute_result"
    }
   ],
   "source": [
    "%%sql\n",
    "select count(*) from listings where price_num = 0;"
   ]
  },
  {
   "cell_type": "code",
   "execution_count": 58,
   "metadata": {},
   "outputs": [
    {
     "name": "stdout",
     "output_type": "stream",
     "text": [
      " * sqlite:///los_angeles_airbnb.db\n",
      "Done.\n"
     ]
    },
    {
     "data": {
      "text/html": [
       "<table>\n",
       "    <tr>\n",
       "        <th>price</th>\n",
       "        <th>neighbourhood_cleansed</th>\n",
       "        <th>room_type</th>\n",
       "        <th>property_type</th>\n",
       "    </tr>\n",
       "    <tr>\n",
       "        <td>$0.00</td>\n",
       "        <td>Hollywood</td>\n",
       "        <td>Hotel room</td>\n",
       "        <td>Room in boutique hotel</td>\n",
       "    </tr>\n",
       "    <tr>\n",
       "        <td>$0.00</td>\n",
       "        <td>Koreatown</td>\n",
       "        <td>Hotel room</td>\n",
       "        <td>Room in hotel</td>\n",
       "    </tr>\n",
       "    <tr>\n",
       "        <td>$0.00</td>\n",
       "        <td>Venice</td>\n",
       "        <td>Hotel room</td>\n",
       "        <td>Room in boutique hotel</td>\n",
       "    </tr>\n",
       "    <tr>\n",
       "        <td>$0.00</td>\n",
       "        <td>Studio City</td>\n",
       "        <td>Hotel room</td>\n",
       "        <td>Room in hotel</td>\n",
       "    </tr>\n",
       "    <tr>\n",
       "        <td>$0.00</td>\n",
       "        <td>Studio City</td>\n",
       "        <td>Hotel room</td>\n",
       "        <td>Room in hotel</td>\n",
       "    </tr>\n",
       "</table>"
      ],
      "text/plain": [
       "[('$0.00', 'Hollywood', 'Hotel room', 'Room in boutique hotel'),\n",
       " ('$0.00', 'Koreatown', 'Hotel room', 'Room in hotel'),\n",
       " ('$0.00', 'Venice', 'Hotel room', 'Room in boutique hotel'),\n",
       " ('$0.00', 'Studio City', 'Hotel room', 'Room in hotel'),\n",
       " ('$0.00', 'Studio City', 'Hotel room', 'Room in hotel')]"
      ]
     },
     "execution_count": 58,
     "metadata": {},
     "output_type": "execute_result"
    }
   ],
   "source": [
    "%%sql\n",
    "select price, neighbourhood_cleansed, room_type, property_type from listings where price_num =0  limit 5"
   ]
  },
  {
   "cell_type": "markdown",
   "metadata": {},
   "source": [
    "Looking at higher priced Airbnb"
   ]
  },
  {
   "cell_type": "code",
   "execution_count": 59,
   "metadata": {},
   "outputs": [
    {
     "name": "stdout",
     "output_type": "stream",
     "text": [
      " * sqlite:///los_angeles_airbnb.db\n",
      "Done.\n"
     ]
    },
    {
     "data": {
      "text/html": [
       "<table>\n",
       "    <tr>\n",
       "        <th>price</th>\n",
       "        <th>neighbourhood_cleansed</th>\n",
       "        <th>room_type</th>\n",
       "        <th>property_type</th>\n",
       "    </tr>\n",
       "    <tr>\n",
       "        <td>$25,000.00</td>\n",
       "        <td>Beverly Hills</td>\n",
       "        <td>Private room</td>\n",
       "        <td>Room in boutique hotel</td>\n",
       "    </tr>\n",
       "    <tr>\n",
       "        <td>$25,000.00</td>\n",
       "        <td>Beverly Hills</td>\n",
       "        <td>Private room</td>\n",
       "        <td>Room in boutique hotel</td>\n",
       "    </tr>\n",
       "    <tr>\n",
       "        <td>$25,000.00</td>\n",
       "        <td>Beverly Hills</td>\n",
       "        <td>Private room</td>\n",
       "        <td>Room in boutique hotel</td>\n",
       "    </tr>\n",
       "    <tr>\n",
       "        <td>$25,000.00</td>\n",
       "        <td>Beverly Hills</td>\n",
       "        <td>Private room</td>\n",
       "        <td>Room in boutique hotel</td>\n",
       "    </tr>\n",
       "    <tr>\n",
       "        <td>$25,000.00</td>\n",
       "        <td>Beverly Hills</td>\n",
       "        <td>Private room</td>\n",
       "        <td>Room in boutique hotel</td>\n",
       "    </tr>\n",
       "</table>"
      ],
      "text/plain": [
       "[('$25,000.00', 'Beverly Hills', 'Private room', 'Room in boutique hotel'),\n",
       " ('$25,000.00', 'Beverly Hills', 'Private room', 'Room in boutique hotel'),\n",
       " ('$25,000.00', 'Beverly Hills', 'Private room', 'Room in boutique hotel'),\n",
       " ('$25,000.00', 'Beverly Hills', 'Private room', 'Room in boutique hotel'),\n",
       " ('$25,000.00', 'Beverly Hills', 'Private room', 'Room in boutique hotel')]"
      ]
     },
     "execution_count": 59,
     "metadata": {},
     "output_type": "execute_result"
    }
   ],
   "source": [
    "%%sql\n",
    "select price, neighbourhood_cleansed, room_type, property_type from listings order by price_num desc limit 5"
   ]
  },
  {
   "cell_type": "markdown",
   "metadata": {},
   "source": [
    "More analysis on price"
   ]
  },
  {
   "cell_type": "code",
   "execution_count": 60,
   "metadata": {
    "collapsed": true
   },
   "outputs": [],
   "source": [
    "query = \"select price_num from listings;\"\n",
    "\n",
    "df = pd.read_sql(query, con_2)"
   ]
  },
  {
   "cell_type": "code",
   "execution_count": 61,
   "metadata": {},
   "outputs": [
    {
     "data": {
      "text/html": [
       "<div>\n",
       "<style scoped>\n",
       "    .dataframe tbody tr th:only-of-type {\n",
       "        vertical-align: middle;\n",
       "    }\n",
       "\n",
       "    .dataframe tbody tr th {\n",
       "        vertical-align: top;\n",
       "    }\n",
       "\n",
       "    .dataframe thead th {\n",
       "        text-align: right;\n",
       "    }\n",
       "</style>\n",
       "<table border=\"1\" class=\"dataframe\">\n",
       "  <thead>\n",
       "    <tr style=\"text-align: right;\">\n",
       "      <th></th>\n",
       "      <th>price_num</th>\n",
       "    </tr>\n",
       "  </thead>\n",
       "  <tbody>\n",
       "    <tr>\n",
       "      <th>count</th>\n",
       "      <td>31596.000000</td>\n",
       "    </tr>\n",
       "    <tr>\n",
       "      <th>mean</th>\n",
       "      <td>260.647740</td>\n",
       "    </tr>\n",
       "    <tr>\n",
       "      <th>std</th>\n",
       "      <td>729.602076</td>\n",
       "    </tr>\n",
       "    <tr>\n",
       "      <th>min</th>\n",
       "      <td>0.000000</td>\n",
       "    </tr>\n",
       "    <tr>\n",
       "      <th>25%</th>\n",
       "      <td>75.000000</td>\n",
       "    </tr>\n",
       "    <tr>\n",
       "      <th>50%</th>\n",
       "      <td>123.000000</td>\n",
       "    </tr>\n",
       "    <tr>\n",
       "      <th>75%</th>\n",
       "      <td>220.000000</td>\n",
       "    </tr>\n",
       "    <tr>\n",
       "      <th>max</th>\n",
       "      <td>25000.000000</td>\n",
       "    </tr>\n",
       "  </tbody>\n",
       "</table>\n",
       "</div>"
      ],
      "text/plain": [
       "          price_num\n",
       "count  31596.000000\n",
       "mean     260.647740\n",
       "std      729.602076\n",
       "min        0.000000\n",
       "25%       75.000000\n",
       "50%      123.000000\n",
       "75%      220.000000\n",
       "max    25000.000000"
      ]
     },
     "execution_count": 61,
     "metadata": {},
     "output_type": "execute_result"
    }
   ],
   "source": [
    "df.describe()"
   ]
  },
  {
   "cell_type": "code",
   "execution_count": null,
   "metadata": {
    "collapsed": true
   },
   "outputs": [],
   "source": [
    "# @out LA_airbnb.db(listings_table)_2\n",
    "# @end remove_0_price_listings\n",
    "\n",
    "\n",
    "# @begin remove_outlier_prices @desc remove lower and upper bound prices as they may skew the average\n",
    "# @in LA_airbnb.db(listings_table)_2"
   ]
  },
  {
   "cell_type": "code",
   "execution_count": 62,
   "metadata": {
    "collapsed": true
   },
   "outputs": [],
   "source": [
    "def out_iqr(df , column):\n",
    "    global lower,upper\n",
    "    q25, q75 = np.quantile(df[column], 0.25), np.quantile(df[column], 0.75)\n",
    "    # calculate the IQR\n",
    "    iqr = q75 - q25\n",
    "    # calculate the outlier cutoff\n",
    "    cut_off = iqr * 1.5\n",
    "    # calculate the lower and upper bound value\n",
    "    lower, upper = q25 - cut_off, q75 + cut_off\n",
    "    print('The IQR is',iqr)\n",
    "    print('The lower bound value is', lower)\n",
    "    print('The upper bound value is', upper)\n",
    "    # Calculate the number of records below and above lower and above bound value respectively\n",
    "    df1 = df[df[column] > upper]\n",
    "    df2 = df[df[column] < lower]\n",
    "    return print('Total number of outliers are', df1.shape[0]+ df2.shape[0])"
   ]
  },
  {
   "cell_type": "code",
   "execution_count": 63,
   "metadata": {},
   "outputs": [
    {
     "name": "stdout",
     "output_type": "stream",
     "text": [
      "The IQR is 145.0\n",
      "The lower bound value is -142.5\n",
      "The upper bound value is 437.5\n",
      "Total number of outliers are 3165\n"
     ]
    }
   ],
   "source": [
    "out_iqr(df,'price_num')"
   ]
  },
  {
   "cell_type": "code",
   "execution_count": 64,
   "metadata": {},
   "outputs": [
    {
     "data": {
      "text/plain": [
       "<matplotlib.patches.Polygon at 0x1613ee594a8>"
      ]
     },
     "execution_count": 64,
     "metadata": {},
     "output_type": "execute_result"
    },
    {
     "data": {
      "image/png": "[encoded data removed]",
      "text/plain": [
       "<Figure size 720x432 with 1 Axes>"
      ]
     },
     "metadata": {},
     "output_type": "display_data"
    }
   ],
   "source": [
    "plt.figure(figsize = (10,6))\n",
    "sns.boxplot(df.price_num)\n",
    "plt.axvspan(xmin = lower,xmax= df.price_num.min(),alpha=0.2, color='red')\n",
    "plt.axvspan(xmin = upper,xmax= df.price_num.max(),alpha=0.2, color='red')"
   ]
  },
  {
   "cell_type": "code",
   "execution_count": null,
   "metadata": {
    "collapsed": true
   },
   "outputs": [],
   "source": [
    "# @out LA_airbnb.db(listings_table)_3\n",
    "# @end remove_outlier_prices \n"
   ]
  },
  {
   "cell_type": "markdown",
   "metadata": {},
   "source": [
    "# Check for any missing data in the columns we are interested in  "
   ]
  },
  {
   "cell_type": "code",
   "execution_count": null,
   "metadata": {
    "collapsed": true
   },
   "outputs": [],
   "source": [
    "# @begin check_missing_data @desc check for missing data in columns of interest\n",
    "# @in LA_airbnb.db(listings_table)_3"
   ]
  },
  {
   "cell_type": "code",
   "execution_count": 65,
   "metadata": {},
   "outputs": [
    {
     "name": "stdout",
     "output_type": "stream",
     "text": [
      " * sqlite:///los_angeles_airbnb.db\n",
      "Done.\n"
     ]
    },
    {
     "data": {
      "text/html": [
       "<table>\n",
       "    <tr>\n",
       "        <th>count(*)</th>\n",
       "    </tr>\n",
       "    <tr>\n",
       "        <td>0</td>\n",
       "    </tr>\n",
       "</table>"
      ],
      "text/plain": [
       "[(0,)]"
      ]
     },
     "execution_count": 65,
     "metadata": {},
     "output_type": "execute_result"
    }
   ],
   "source": [
    "%%sql\n",
    "select count(*) from listings where room_type is  null;"
   ]
  },
  {
   "cell_type": "code",
   "execution_count": 66,
   "metadata": {},
   "outputs": [
    {
     "name": "stdout",
     "output_type": "stream",
     "text": [
      " * sqlite:///los_angeles_airbnb.db\n",
      "Done.\n"
     ]
    },
    {
     "data": {
      "text/html": [
       "<table>\n",
       "    <tr>\n",
       "        <th>count(*)</th>\n",
       "    </tr>\n",
       "    <tr>\n",
       "        <td>7782</td>\n",
       "    </tr>\n",
       "</table>"
      ],
      "text/plain": [
       "[(7782,)]"
      ]
     },
     "execution_count": 66,
     "metadata": {},
     "output_type": "execute_result"
    }
   ],
   "source": [
    "%%sql\n",
    "select count(*) from listings where review_scores_value is  null;"
   ]
  },
  {
   "cell_type": "code",
   "execution_count": 67,
   "metadata": {
    "collapsed": true
   },
   "outputs": [],
   "source": [
    "query = \"select review_scores_value from listings where review_scores_value is not null;\"\n",
    "\n",
    "df_review_sc= pd.read_sql(query, con_2)"
   ]
  },
  {
   "cell_type": "code",
   "execution_count": 68,
   "metadata": {},
   "outputs": [
    {
     "data": {
      "text/html": [
       "<div>\n",
       "<style scoped>\n",
       "    .dataframe tbody tr th:only-of-type {\n",
       "        vertical-align: middle;\n",
       "    }\n",
       "\n",
       "    .dataframe tbody tr th {\n",
       "        vertical-align: top;\n",
       "    }\n",
       "\n",
       "    .dataframe thead th {\n",
       "        text-align: right;\n",
       "    }\n",
       "</style>\n",
       "<table border=\"1\" class=\"dataframe\">\n",
       "  <thead>\n",
       "    <tr style=\"text-align: right;\">\n",
       "      <th></th>\n",
       "      <th>review_scores_value</th>\n",
       "    </tr>\n",
       "  </thead>\n",
       "  <tbody>\n",
       "    <tr>\n",
       "      <th>count</th>\n",
       "      <td>23814.000000</td>\n",
       "    </tr>\n",
       "    <tr>\n",
       "      <th>mean</th>\n",
       "      <td>4.678749</td>\n",
       "    </tr>\n",
       "    <tr>\n",
       "      <th>std</th>\n",
       "      <td>0.499177</td>\n",
       "    </tr>\n",
       "    <tr>\n",
       "      <th>min</th>\n",
       "      <td>0.000000</td>\n",
       "    </tr>\n",
       "    <tr>\n",
       "      <th>25%</th>\n",
       "      <td>4.610000</td>\n",
       "    </tr>\n",
       "    <tr>\n",
       "      <th>50%</th>\n",
       "      <td>4.810000</td>\n",
       "    </tr>\n",
       "    <tr>\n",
       "      <th>75%</th>\n",
       "      <td>4.960000</td>\n",
       "    </tr>\n",
       "    <tr>\n",
       "      <th>max</th>\n",
       "      <td>5.000000</td>\n",
       "    </tr>\n",
       "  </tbody>\n",
       "</table>\n",
       "</div>"
      ],
      "text/plain": [
       "       review_scores_value\n",
       "count         23814.000000\n",
       "mean              4.678749\n",
       "std               0.499177\n",
       "min               0.000000\n",
       "25%               4.610000\n",
       "50%               4.810000\n",
       "75%               4.960000\n",
       "max               5.000000"
      ]
     },
     "execution_count": 68,
     "metadata": {},
     "output_type": "execute_result"
    }
   ],
   "source": [
    "df_review_sc.describe()"
   ]
  },
  {
   "cell_type": "code",
   "execution_count": 69,
   "metadata": {},
   "outputs": [
    {
     "name": "stdout",
     "output_type": "stream",
     "text": [
      " * sqlite:///los_angeles_airbnb.db\n",
      "Done.\n"
     ]
    },
    {
     "data": {
      "text/html": [
       "<table>\n",
       "    <tr>\n",
       "        <th>count(*)</th>\n",
       "    </tr>\n",
       "    <tr>\n",
       "        <td>6</td>\n",
       "    </tr>\n",
       "</table>"
      ],
      "text/plain": [
       "[(6,)]"
      ]
     },
     "execution_count": 69,
     "metadata": {},
     "output_type": "execute_result"
    }
   ],
   "source": [
    "%%sql\n",
    "select count(*) from listings where review_scores_value =0;"
   ]
  },
  {
   "cell_type": "markdown",
   "metadata": {},
   "source": [
    "We will assume a review score of 0 is valid"
   ]
  },
  {
   "cell_type": "code",
   "execution_count": 71,
   "metadata": {},
   "outputs": [
    {
     "name": "stdout",
     "output_type": "stream",
     "text": [
      " * sqlite:///los_angeles_airbnb.db\n",
      "Done.\n"
     ]
    },
    {
     "data": {
      "text/html": [
       "<table>\n",
       "    <tr>\n",
       "        <th>count()</th>\n",
       "        <th>room_type</th>\n",
       "    </tr>\n",
       "    <tr>\n",
       "        <td>21180</td>\n",
       "        <td>Entire home/apt</td>\n",
       "    </tr>\n",
       "    <tr>\n",
       "        <td>113</td>\n",
       "        <td>Hotel room</td>\n",
       "    </tr>\n",
       "    <tr>\n",
       "        <td>9296</td>\n",
       "        <td>Private room</td>\n",
       "    </tr>\n",
       "    <tr>\n",
       "        <td>1007</td>\n",
       "        <td>Shared room</td>\n",
       "    </tr>\n",
       "</table>"
      ],
      "text/plain": [
       "[(21180, 'Entire home/apt'),\n",
       " (113, 'Hotel room'),\n",
       " (9296, 'Private room'),\n",
       " (1007, 'Shared room')]"
      ]
     },
     "execution_count": 71,
     "metadata": {},
     "output_type": "execute_result"
    }
   ],
   "source": [
    "%%sql\n",
    "select count(), room_type from listings group by room_type;"
   ]
  },
  {
   "cell_type": "markdown",
   "metadata": {},
   "source": [
    "What effect do the review_scores null values and $0 price have on data?"
   ]
  },
  {
   "cell_type": "code",
   "execution_count": 73,
   "metadata": {},
   "outputs": [
    {
     "name": "stdout",
     "output_type": "stream",
     "text": [
      " * sqlite:///los_angeles_airbnb.db\n",
      "Done.\n"
     ]
    },
    {
     "data": {
      "text/html": [
       "<table>\n",
       "    <tr>\n",
       "        <th>avg(review_scores_value)</th>\n",
       "    </tr>\n",
       "    <tr>\n",
       "        <td>4.678749055177664</td>\n",
       "    </tr>\n",
       "</table>"
      ],
      "text/plain": [
       "[(4.678749055177664,)]"
      ]
     },
     "execution_count": 73,
     "metadata": {},
     "output_type": "execute_result"
    }
   ],
   "source": [
    "%%sql\n",
    "select avg(review_scores_value) from listings where review_scores_value is not null;"
   ]
  },
  {
   "cell_type": "code",
   "execution_count": 74,
   "metadata": {},
   "outputs": [
    {
     "name": "stdout",
     "output_type": "stream",
     "text": [
      " * sqlite:///los_angeles_airbnb.db\n",
      "Done.\n"
     ]
    },
    {
     "data": {
      "text/html": [
       "<table>\n",
       "    <tr>\n",
       "        <th>avg(review_scores_value)</th>\n",
       "    </tr>\n",
       "    <tr>\n",
       "        <td>4.678749055177664</td>\n",
       "    </tr>\n",
       "</table>"
      ],
      "text/plain": [
       "[(4.678749055177664,)]"
      ]
     },
     "execution_count": 74,
     "metadata": {},
     "output_type": "execute_result"
    }
   ],
   "source": [
    "%%sql\n",
    "select avg(review_scores_value) from listings"
   ]
  },
  {
   "cell_type": "code",
   "execution_count": 75,
   "metadata": {},
   "outputs": [
    {
     "name": "stdout",
     "output_type": "stream",
     "text": [
      " * sqlite:///los_angeles_airbnb.db\n",
      "Done.\n"
     ]
    },
    {
     "data": {
      "text/html": [
       "<table>\n",
       "    <tr>\n",
       "        <th>avg(price_num)</th>\n",
       "    </tr>\n",
       "    <tr>\n",
       "        <td>211.49210548416897</td>\n",
       "    </tr>\n",
       "</table>"
      ],
      "text/plain": [
       "[(211.49210548416897,)]"
      ]
     },
     "execution_count": 75,
     "metadata": {},
     "output_type": "execute_result"
    }
   ],
   "source": [
    "%%sql\n",
    "select avg(price_num) from listings where review_scores_value is not null;"
   ]
  },
  {
   "cell_type": "code",
   "execution_count": 46,
   "metadata": {},
   "outputs": [
    {
     "name": "stdout",
     "output_type": "stream",
     "text": [
      " * sqlite:///los_angeles_airbnb.db\n",
      "Done.\n"
     ]
    },
    {
     "data": {
      "text/html": [
       "<table>\n",
       "    <tr>\n",
       "        <th>avg(price_num)</th>\n",
       "    </tr>\n",
       "    <tr>\n",
       "        <td>260.64774022028104</td>\n",
       "    </tr>\n",
       "</table>"
      ],
      "text/plain": [
       "[(260.64774022028104,)]"
      ]
     },
     "execution_count": 46,
     "metadata": {},
     "output_type": "execute_result"
    }
   ],
   "source": [
    "%%sql\n",
    "select avg(price_num) from listings;"
   ]
  },
  {
   "cell_type": "code",
   "execution_count": null,
   "metadata": {
    "collapsed": true
   },
   "outputs": [],
   "source": [
    "# @out LA_airbnb.db(listings_table)_3\n",
    "# @end check_missing_data @desc check for missing data in columns of interest"
   ]
  },
  {
   "cell_type": "markdown",
   "metadata": {},
   "source": [
    "# The average price is slightly different when taking the average from the table that includes the null values for the review score.\n",
    "We will create a new table and exclude the fields where review_scores_value is null. \n",
    "Additionally, this will impact the analysis of the average price.  The records that did have an average price but a null \n",
    "review_scores_value will no longer be included in the new table. "
   ]
  },
  {
   "cell_type": "code",
   "execution_count": null,
   "metadata": {
    "collapsed": true
   },
   "outputs": [],
   "source": [
    "# @begin create_listings_new @desc create listings_new where listings with null review scores are removed\n",
    "# @in LA_airbnb.db(listings_table)_3"
   ]
  },
  {
   "cell_type": "code",
   "execution_count": 76,
   "metadata": {},
   "outputs": [
    {
     "name": "stdout",
     "output_type": "stream",
     "text": [
      " * sqlite:///los_angeles_airbnb.db\n",
      "Done.\n"
     ]
    },
    {
     "data": {
      "text/plain": [
       "[]"
      ]
     },
     "execution_count": 76,
     "metadata": {},
     "output_type": "execute_result"
    }
   ],
   "source": [
    "%%sql\n",
    "create table listings_new as select * from listings where review_scores_value is not null;"
   ]
  },
  {
   "cell_type": "code",
   "execution_count": null,
   "metadata": {
    "collapsed": true
   },
   "outputs": [],
   "source": [
    "# @out LA_airbnb.db(listings_new_table)\n",
    "# @end create_listings_new @desc create listings_new where listings with null review scores are removed\n",
    "\n",
    "# @begin check_listings_and_listings_new_and_regions_tables @desc check counts and distinct values for both tables and examine differences between listings and listings_new\n",
    "# @in LA_airbnb.db(listings_table)_3\n",
    "# @in LA_airbnb.db(regions_table)_1\n",
    "# @in LA_airbnb.db(listings_new_table)"
   ]
  },
  {
   "cell_type": "code",
   "execution_count": 77,
   "metadata": {},
   "outputs": [
    {
     "name": "stdout",
     "output_type": "stream",
     "text": [
      " * sqlite:///los_angeles_airbnb.db\n",
      "Done.\n"
     ]
    },
    {
     "data": {
      "text/html": [
       "<table>\n",
       "    <tr>\n",
       "        <th>count_listings</th>\n",
       "    </tr>\n",
       "    <tr>\n",
       "        <td>31596</td>\n",
       "    </tr>\n",
       "</table>"
      ],
      "text/plain": [
       "[(31596,)]"
      ]
     },
     "execution_count": 77,
     "metadata": {},
     "output_type": "execute_result"
    }
   ],
   "source": [
    "%%sql\n",
    "select count(*) count_listings from listings"
   ]
  },
  {
   "cell_type": "code",
   "execution_count": 78,
   "metadata": {},
   "outputs": [
    {
     "name": "stdout",
     "output_type": "stream",
     "text": [
      " * sqlite:///los_angeles_airbnb.db\n",
      "Done.\n"
     ]
    },
    {
     "data": {
      "text/html": [
       "<table>\n",
       "    <tr>\n",
       "        <th>count_listings</th>\n",
       "    </tr>\n",
       "    <tr>\n",
       "        <td>23814</td>\n",
       "    </tr>\n",
       "</table>"
      ],
      "text/plain": [
       "[(23814,)]"
      ]
     },
     "execution_count": 78,
     "metadata": {},
     "output_type": "execute_result"
    }
   ],
   "source": [
    "%%sql\n",
    "select count(*) count_listings from listings_new"
   ]
  },
  {
   "cell_type": "code",
   "execution_count": 79,
   "metadata": {
    "collapsed": true
   },
   "outputs": [],
   "source": [
    "query = \"select review_scores_value from listings_new\"\n",
    "\n",
    "df_review_sc= pd.read_sql(query, con_2)"
   ]
  },
  {
   "cell_type": "code",
   "execution_count": 80,
   "metadata": {},
   "outputs": [
    {
     "data": {
      "text/html": [
       "<div>\n",
       "<style scoped>\n",
       "    .dataframe tbody tr th:only-of-type {\n",
       "        vertical-align: middle;\n",
       "    }\n",
       "\n",
       "    .dataframe tbody tr th {\n",
       "        vertical-align: top;\n",
       "    }\n",
       "\n",
       "    .dataframe thead th {\n",
       "        text-align: right;\n",
       "    }\n",
       "</style>\n",
       "<table border=\"1\" class=\"dataframe\">\n",
       "  <thead>\n",
       "    <tr style=\"text-align: right;\">\n",
       "      <th></th>\n",
       "      <th>review_scores_value</th>\n",
       "    </tr>\n",
       "  </thead>\n",
       "  <tbody>\n",
       "    <tr>\n",
       "      <th>count</th>\n",
       "      <td>23814.000000</td>\n",
       "    </tr>\n",
       "    <tr>\n",
       "      <th>mean</th>\n",
       "      <td>4.678749</td>\n",
       "    </tr>\n",
       "    <tr>\n",
       "      <th>std</th>\n",
       "      <td>0.499177</td>\n",
       "    </tr>\n",
       "    <tr>\n",
       "      <th>min</th>\n",
       "      <td>0.000000</td>\n",
       "    </tr>\n",
       "    <tr>\n",
       "      <th>25%</th>\n",
       "      <td>4.610000</td>\n",
       "    </tr>\n",
       "    <tr>\n",
       "      <th>50%</th>\n",
       "      <td>4.810000</td>\n",
       "    </tr>\n",
       "    <tr>\n",
       "      <th>75%</th>\n",
       "      <td>4.960000</td>\n",
       "    </tr>\n",
       "    <tr>\n",
       "      <th>max</th>\n",
       "      <td>5.000000</td>\n",
       "    </tr>\n",
       "  </tbody>\n",
       "</table>\n",
       "</div>"
      ],
      "text/plain": [
       "       review_scores_value\n",
       "count         23814.000000\n",
       "mean              4.678749\n",
       "std               0.499177\n",
       "min               0.000000\n",
       "25%               4.610000\n",
       "50%               4.810000\n",
       "75%               4.960000\n",
       "max               5.000000"
      ]
     },
     "execution_count": 80,
     "metadata": {},
     "output_type": "execute_result"
    }
   ],
   "source": [
    "df_review_sc.describe()"
   ]
  },
  {
   "cell_type": "code",
   "execution_count": 81,
   "metadata": {},
   "outputs": [
    {
     "name": "stdout",
     "output_type": "stream",
     "text": [
      " * sqlite:///los_angeles_airbnb.db\n",
      "Done.\n"
     ]
    },
    {
     "data": {
      "text/html": [
       "<table>\n",
       "    <tr>\n",
       "        <th>count(*)</th>\n",
       "    </tr>\n",
       "    <tr>\n",
       "        <td>6</td>\n",
       "    </tr>\n",
       "</table>"
      ],
      "text/plain": [
       "[(6,)]"
      ]
     },
     "execution_count": 81,
     "metadata": {},
     "output_type": "execute_result"
    }
   ],
   "source": [
    "%%sql\n",
    "select count(*) from listings_new where review_scores_value =0;"
   ]
  },
  {
   "cell_type": "markdown",
   "metadata": {},
   "source": [
    "We will assume a review score of 0 is valid "
   ]
  },
  {
   "cell_type": "code",
   "execution_count": 82,
   "metadata": {},
   "outputs": [
    {
     "name": "stdout",
     "output_type": "stream",
     "text": [
      " * sqlite:///los_angeles_airbnb.db\n",
      "Done.\n"
     ]
    },
    {
     "data": {
      "text/html": [
       "<table>\n",
       "    <tr>\n",
       "        <th>count()</th>\n",
       "        <th>room_type</th>\n",
       "    </tr>\n",
       "    <tr>\n",
       "        <td>16299</td>\n",
       "        <td>Entire home/apt</td>\n",
       "    </tr>\n",
       "    <tr>\n",
       "        <td>104</td>\n",
       "        <td>Hotel room</td>\n",
       "    </tr>\n",
       "    <tr>\n",
       "        <td>6862</td>\n",
       "        <td>Private room</td>\n",
       "    </tr>\n",
       "    <tr>\n",
       "        <td>549</td>\n",
       "        <td>Shared room</td>\n",
       "    </tr>\n",
       "</table>"
      ],
      "text/plain": [
       "[(16299, 'Entire home/apt'),\n",
       " (104, 'Hotel room'),\n",
       " (6862, 'Private room'),\n",
       " (549, 'Shared room')]"
      ]
     },
     "execution_count": 82,
     "metadata": {},
     "output_type": "execute_result"
    }
   ],
   "source": [
    "%%sql\n",
    "select count(), room_type from listings_new group by room_type;"
   ]
  },
  {
   "cell_type": "code",
   "execution_count": null,
   "metadata": {
    "collapsed": true
   },
   "outputs": [],
   "source": [
    "# @out LA_airbnb.db(listings_table)_3\n",
    "# @out LA_airbnb.db(regions_table)_1\n",
    "# @out LA_airbnb.db(listings_new_table)\n",
    "# @end check_listings_and_listings_new_and_regions_tables\n"
   ]
  },
  {
   "cell_type": "markdown",
   "metadata": {},
   "source": [
    "# The average price is slightly different when removing the records with $0 average price"
   ]
  },
  {
   "cell_type": "code",
   "execution_count": null,
   "metadata": {
    "collapsed": true
   },
   "outputs": [],
   "source": [
    "# @begin remove_outliers_from_listings_new @desc remove outliers from listings_new\n",
    "# @in LA_airbnb.db(listings_new_table)"
   ]
  },
  {
   "cell_type": "code",
   "execution_count": 83,
   "metadata": {},
   "outputs": [
    {
     "name": "stdout",
     "output_type": "stream",
     "text": [
      " * sqlite:///los_angeles_airbnb.db\n",
      "Done.\n"
     ]
    },
    {
     "data": {
      "text/html": [
       "<table>\n",
       "    <tr>\n",
       "        <th>avg(price_num)</th>\n",
       "    </tr>\n",
       "    <tr>\n",
       "        <td>211.49210548416897</td>\n",
       "    </tr>\n",
       "</table>"
      ],
      "text/plain": [
       "[(211.49210548416897,)]"
      ]
     },
     "execution_count": 83,
     "metadata": {},
     "output_type": "execute_result"
    }
   ],
   "source": [
    "%%sql\n",
    "select avg(price_num) from listings_new;\n"
   ]
  },
  {
   "cell_type": "code",
   "execution_count": 84,
   "metadata": {},
   "outputs": [
    {
     "name": "stdout",
     "output_type": "stream",
     "text": [
      " * sqlite:///los_angeles_airbnb.db\n",
      "Done.\n"
     ]
    },
    {
     "data": {
      "text/html": [
       "<table>\n",
       "    <tr>\n",
       "        <th>avg(price_num)</th>\n",
       "    </tr>\n",
       "    <tr>\n",
       "        <td>211.5987311990589</td>\n",
       "    </tr>\n",
       "</table>"
      ],
      "text/plain": [
       "[(211.5987311990589,)]"
      ]
     },
     "execution_count": 84,
     "metadata": {},
     "output_type": "execute_result"
    }
   ],
   "source": [
    "%%sql\n",
    "select avg(price_num) from listings_new where price_num <> 0;"
   ]
  },
  {
   "cell_type": "code",
   "execution_count": 85,
   "metadata": {},
   "outputs": [
    {
     "name": "stdout",
     "output_type": "stream",
     "text": [
      " * sqlite:///los_angeles_airbnb.db\n",
      "Done.\n"
     ]
    },
    {
     "data": {
      "text/html": [
       "<table>\n",
       "    <tr>\n",
       "        <th>avg(review_scores_value)</th>\n",
       "    </tr>\n",
       "    <tr>\n",
       "        <td>4.678749055177664</td>\n",
       "    </tr>\n",
       "</table>"
      ],
      "text/plain": [
       "[(4.678749055177664,)]"
      ]
     },
     "execution_count": 85,
     "metadata": {},
     "output_type": "execute_result"
    }
   ],
   "source": [
    "%%sql\n",
    "select avg(review_scores_value) from listings_new;"
   ]
  },
  {
   "cell_type": "code",
   "execution_count": 86,
   "metadata": {},
   "outputs": [
    {
     "name": "stdout",
     "output_type": "stream",
     "text": [
      " * sqlite:///los_angeles_airbnb.db\n",
      "Done.\n"
     ]
    },
    {
     "data": {
      "text/html": [
       "<table>\n",
       "    <tr>\n",
       "        <th>avg(review_scores_value)</th>\n",
       "    </tr>\n",
       "    <tr>\n",
       "        <td>4.679029073187165</td>\n",
       "    </tr>\n",
       "</table>"
      ],
      "text/plain": [
       "[(4.679029073187165,)]"
      ]
     },
     "execution_count": 86,
     "metadata": {},
     "output_type": "execute_result"
    }
   ],
   "source": [
    "%%sql\n",
    "select avg(review_scores_value) from listings_new where price_num <> 0;"
   ]
  },
  {
   "cell_type": "code",
   "execution_count": 87,
   "metadata": {},
   "outputs": [
    {
     "name": "stdout",
     "output_type": "stream",
     "text": [
      " * sqlite:///los_angeles_airbnb.db\n",
      "12 rows affected.\n"
     ]
    },
    {
     "data": {
      "text/plain": [
       "[]"
      ]
     },
     "execution_count": 87,
     "metadata": {},
     "output_type": "execute_result"
    }
   ],
   "source": [
    "%%sql\n",
    "delete from listings_new where price_num = 0;"
   ]
  },
  {
   "cell_type": "markdown",
   "metadata": {},
   "source": [
    "Note that previoulsy there were 16 records where price_num = 0, however we have already removed some records\n",
    "where review_scores_value = 0.  "
   ]
  },
  {
   "cell_type": "code",
   "execution_count": 88,
   "metadata": {},
   "outputs": [
    {
     "name": "stdout",
     "output_type": "stream",
     "text": [
      " * sqlite:///los_angeles_airbnb.db\n",
      "Done.\n"
     ]
    },
    {
     "data": {
      "text/html": [
       "<table>\n",
       "    <tr>\n",
       "        <th>count(*)</th>\n",
       "    </tr>\n",
       "    <tr>\n",
       "        <td>4</td>\n",
       "    </tr>\n",
       "</table>"
      ],
      "text/plain": [
       "[(4,)]"
      ]
     },
     "execution_count": 88,
     "metadata": {},
     "output_type": "execute_result"
    }
   ],
   "source": [
    "%%sql \n",
    "select count(*) from listings where price_num =0 and review_scores_value is null;"
   ]
  },
  {
   "cell_type": "code",
   "execution_count": 89,
   "metadata": {
    "collapsed": true
   },
   "outputs": [],
   "source": [
    "query = \"select price_num from listings_new;\"\n",
    "\n",
    "df = pd.read_sql(query, con_2)"
   ]
  },
  {
   "cell_type": "code",
   "execution_count": 90,
   "metadata": {},
   "outputs": [
    {
     "data": {
      "text/html": [
       "<div>\n",
       "<style scoped>\n",
       "    .dataframe tbody tr th:only-of-type {\n",
       "        vertical-align: middle;\n",
       "    }\n",
       "\n",
       "    .dataframe tbody tr th {\n",
       "        vertical-align: top;\n",
       "    }\n",
       "\n",
       "    .dataframe thead th {\n",
       "        text-align: right;\n",
       "    }\n",
       "</style>\n",
       "<table border=\"1\" class=\"dataframe\">\n",
       "  <thead>\n",
       "    <tr style=\"text-align: right;\">\n",
       "      <th></th>\n",
       "      <th>price_num</th>\n",
       "    </tr>\n",
       "  </thead>\n",
       "  <tbody>\n",
       "    <tr>\n",
       "      <th>count</th>\n",
       "      <td>23802.000000</td>\n",
       "    </tr>\n",
       "    <tr>\n",
       "      <th>mean</th>\n",
       "      <td>211.598731</td>\n",
       "    </tr>\n",
       "    <tr>\n",
       "      <th>std</th>\n",
       "      <td>397.343996</td>\n",
       "    </tr>\n",
       "    <tr>\n",
       "      <th>min</th>\n",
       "      <td>10.000000</td>\n",
       "    </tr>\n",
       "    <tr>\n",
       "      <th>25%</th>\n",
       "      <td>75.000000</td>\n",
       "    </tr>\n",
       "    <tr>\n",
       "      <th>50%</th>\n",
       "      <td>120.000000</td>\n",
       "    </tr>\n",
       "    <tr>\n",
       "      <th>75%</th>\n",
       "      <td>203.000000</td>\n",
       "    </tr>\n",
       "    <tr>\n",
       "      <th>max</th>\n",
       "      <td>10000.000000</td>\n",
       "    </tr>\n",
       "  </tbody>\n",
       "</table>\n",
       "</div>"
      ],
      "text/plain": [
       "          price_num\n",
       "count  23802.000000\n",
       "mean     211.598731\n",
       "std      397.343996\n",
       "min       10.000000\n",
       "25%       75.000000\n",
       "50%      120.000000\n",
       "75%      203.000000\n",
       "max    10000.000000"
      ]
     },
     "execution_count": 90,
     "metadata": {},
     "output_type": "execute_result"
    }
   ],
   "source": [
    "df.describe()"
   ]
  },
  {
   "cell_type": "code",
   "execution_count": 91,
   "metadata": {},
   "outputs": [
    {
     "name": "stdout",
     "output_type": "stream",
     "text": [
      " * sqlite:///los_angeles_airbnb.db\n",
      "Done.\n"
     ]
    },
    {
     "data": {
      "text/html": [
       "<table>\n",
       "    <tr>\n",
       "        <th>price</th>\n",
       "        <th>price_num</th>\n",
       "        <th>review_scores_value</th>\n",
       "    </tr>\n",
       "    <tr>\n",
       "        <td>$25,000.00</td>\n",
       "        <td>25000</td>\n",
       "        <td>None</td>\n",
       "    </tr>\n",
       "    <tr>\n",
       "        <td>$25,000.00</td>\n",
       "        <td>25000</td>\n",
       "        <td>None</td>\n",
       "    </tr>\n",
       "    <tr>\n",
       "        <td>$25,000.00</td>\n",
       "        <td>25000</td>\n",
       "        <td>None</td>\n",
       "    </tr>\n",
       "    <tr>\n",
       "        <td>$25,000.00</td>\n",
       "        <td>25000</td>\n",
       "        <td>None</td>\n",
       "    </tr>\n",
       "    <tr>\n",
       "        <td>$25,000.00</td>\n",
       "        <td>25000</td>\n",
       "        <td>None</td>\n",
       "    </tr>\n",
       "    <tr>\n",
       "        <td>$25,000.00</td>\n",
       "        <td>25000</td>\n",
       "        <td>None</td>\n",
       "    </tr>\n",
       "</table>"
      ],
      "text/plain": [
       "[('$25,000.00', 25000, None),\n",
       " ('$25,000.00', 25000, None),\n",
       " ('$25,000.00', 25000, None),\n",
       " ('$25,000.00', 25000, None),\n",
       " ('$25,000.00', 25000, None),\n",
       " ('$25,000.00', 25000, None)]"
      ]
     },
     "execution_count": 91,
     "metadata": {},
     "output_type": "execute_result"
    }
   ],
   "source": [
    "%%sql\n",
    "select price, price_num, review_scores_value from listings where price_num = 25000;"
   ]
  },
  {
   "cell_type": "code",
   "execution_count": 92,
   "metadata": {
    "collapsed": true
   },
   "outputs": [],
   "source": [
    "def out_iqr(df , column):\n",
    "    global lower,upper\n",
    "    q25, q75 = np.quantile(df[column], 0.25), np.quantile(df[column], 0.75)\n",
    "    # calculate the IQR\n",
    "    iqr = q75 - q25\n",
    "    # calculate the outlier cutoff\n",
    "    cut_off = iqr * 1.5\n",
    "    # calculate the lower and upper bound value\n",
    "    lower, upper = q25 - cut_off, q75 + cut_off\n",
    "    print('The IQR is',iqr)\n",
    "    print('The lower bound value is', lower)\n",
    "    print('The upper bound value is', upper)\n",
    "    # Calculate the number of records below and above lower and above bound value respectively\n",
    "    df1 = df[df[column] > upper]\n",
    "    df2 = df[df[column] < lower]\n",
    "    return print('Total number of outliers are', df1.shape[0]+ df2.shape[0])"
   ]
  },
  {
   "cell_type": "code",
   "execution_count": 93,
   "metadata": {},
   "outputs": [
    {
     "name": "stdout",
     "output_type": "stream",
     "text": [
      "The IQR is 128.0\n",
      "The lower bound value is -117.0\n",
      "The upper bound value is 395.0\n",
      "Total number of outliers are 2433\n"
     ]
    }
   ],
   "source": [
    "out_iqr(df,'price_num')"
   ]
  },
  {
   "cell_type": "code",
   "execution_count": 94,
   "metadata": {},
   "outputs": [
    {
     "data": {
      "text/plain": [
       "<matplotlib.patches.Polygon at 0x1613ee6b470>"
      ]
     },
     "execution_count": 94,
     "metadata": {},
     "output_type": "execute_result"
    },
    {
     "data": {
      "image/png": "[encoded data removed]",
      "text/plain": [
       "<Figure size 720x432 with 1 Axes>"
      ]
     },
     "metadata": {},
     "output_type": "display_data"
    }
   ],
   "source": [
    "plt.figure(figsize = (10,6))\n",
    "sns.boxplot(df.price_num)\n",
    "plt.axvspan(xmin = lower,xmax= df.price_num.min(),alpha=0.2, color='red')\n",
    "plt.axvspan(xmin = upper,xmax= df.price_num.max(),alpha=0.2, color='red')"
   ]
  },
  {
   "cell_type": "code",
   "execution_count": null,
   "metadata": {
    "collapsed": true
   },
   "outputs": [],
   "source": [
    "# @out LA_airbnb.db(listings_new_table)_1\n",
    "# @end remove_outliers_from_listings_new \n"
   ]
  },
  {
   "cell_type": "markdown",
   "metadata": {},
   "source": [
    "# Other analsyis "
   ]
  },
  {
   "cell_type": "code",
   "execution_count": null,
   "metadata": {
    "collapsed": true
   },
   "outputs": [],
   "source": [
    "# @begin check_all_tables @desc check listings, listings_new, and regions tables\n",
    "# @in LA_airbnb.db(listings_new_table)_1\n",
    "# @in LA_airbnb.db(listings_table)_3\n",
    "# @in LA_airbnb.db(regions_table)_1"
   ]
  },
  {
   "cell_type": "code",
   "execution_count": 95,
   "metadata": {},
   "outputs": [
    {
     "name": "stdout",
     "output_type": "stream",
     "text": [
      " * sqlite:///los_angeles_airbnb.db\n",
      "Done.\n"
     ]
    },
    {
     "data": {
      "text/html": [
       "<table>\n",
       "    <tr>\n",
       "        <th>count()</th>\n",
       "    </tr>\n",
       "    <tr>\n",
       "        <td>16</td>\n",
       "    </tr>\n",
       "</table>"
      ],
      "text/plain": [
       "[(16,)]"
      ]
     },
     "execution_count": 95,
     "metadata": {},
     "output_type": "execute_result"
    }
   ],
   "source": [
    "%%sql\n",
    "select count() from (select distinct region from regions);"
   ]
  },
  {
   "cell_type": "code",
   "execution_count": 96,
   "metadata": {},
   "outputs": [
    {
     "name": "stdout",
     "output_type": "stream",
     "text": [
      " * sqlite:///los_angeles_airbnb.db\n",
      "Done.\n"
     ]
    },
    {
     "data": {
      "text/html": [
       "<table>\n",
       "    <tr>\n",
       "        <th>Region</th>\n",
       "    </tr>\n",
       "    <tr>\n",
       "        <td>Angeles Forest</td>\n",
       "    </tr>\n",
       "    <tr>\n",
       "        <td>Antelope Valley</td>\n",
       "    </tr>\n",
       "    <tr>\n",
       "        <td>Central L.A.</td>\n",
       "    </tr>\n",
       "    <tr>\n",
       "        <td>Eastside</td>\n",
       "    </tr>\n",
       "    <tr>\n",
       "        <td>Harbor</td>\n",
       "    </tr>\n",
       "    <tr>\n",
       "        <td>Northeast L.A.</td>\n",
       "    </tr>\n",
       "    <tr>\n",
       "        <td>Northwest County</td>\n",
       "    </tr>\n",
       "    <tr>\n",
       "        <td>Pomona Valley</td>\n",
       "    </tr>\n",
       "    <tr>\n",
       "        <td>San Fernando Valley</td>\n",
       "    </tr>\n",
       "    <tr>\n",
       "        <td>San Gabriel Valley</td>\n",
       "    </tr>\n",
       "    <tr>\n",
       "        <td>Santa Monica Mountains</td>\n",
       "    </tr>\n",
       "    <tr>\n",
       "        <td>South Bay</td>\n",
       "    </tr>\n",
       "    <tr>\n",
       "        <td>South L.A.</td>\n",
       "    </tr>\n",
       "    <tr>\n",
       "        <td>Southeast</td>\n",
       "    </tr>\n",
       "    <tr>\n",
       "        <td>Verdugos</td>\n",
       "    </tr>\n",
       "    <tr>\n",
       "        <td>Westside</td>\n",
       "    </tr>\n",
       "</table>"
      ],
      "text/plain": [
       "[('Angeles Forest',),\n",
       " ('Antelope Valley',),\n",
       " ('Central L.A.',),\n",
       " ('Eastside',),\n",
       " ('Harbor',),\n",
       " ('Northeast L.A.',),\n",
       " ('Northwest County',),\n",
       " ('Pomona Valley',),\n",
       " ('San Fernando Valley',),\n",
       " ('San Gabriel Valley',),\n",
       " ('Santa Monica Mountains',),\n",
       " ('South Bay',),\n",
       " ('South L.A.',),\n",
       " ('Southeast',),\n",
       " ('Verdugos',),\n",
       " ('Westside',)]"
      ]
     },
     "execution_count": 96,
     "metadata": {},
     "output_type": "execute_result"
    }
   ],
   "source": [
    "%%sql\n",
    "select distinct region from regions order by 1;"
   ]
  },
  {
   "cell_type": "code",
   "execution_count": 97,
   "metadata": {},
   "outputs": [
    {
     "name": "stdout",
     "output_type": "stream",
     "text": [
      " * sqlite:///los_angeles_airbnb.db\n",
      "Done.\n"
     ]
    },
    {
     "data": {
      "text/html": [
       "<table>\n",
       "    <tr>\n",
       "        <th>count(*)</th>\n",
       "    </tr>\n",
       "    <tr>\n",
       "        <td>261</td>\n",
       "    </tr>\n",
       "</table>"
      ],
      "text/plain": [
       "[(261,)]"
      ]
     },
     "execution_count": 97,
     "metadata": {},
     "output_type": "execute_result"
    }
   ],
   "source": [
    "%%sql\n",
    "select count(*) from (select distinct neighbourhood_cleansed from listings_new);"
   ]
  },
  {
   "cell_type": "code",
   "execution_count": 98,
   "metadata": {},
   "outputs": [
    {
     "name": "stdout",
     "output_type": "stream",
     "text": [
      " * sqlite:///los_angeles_airbnb.db\n",
      "Done.\n"
     ]
    },
    {
     "data": {
      "text/html": [
       "<table>\n",
       "    <tr>\n",
       "        <th>count()</th>\n",
       "        <th>neighbourhood_cleansed</th>\n",
       "    </tr>\n",
       "    <tr>\n",
       "        <td>4</td>\n",
       "        <td>Acton</td>\n",
       "    </tr>\n",
       "    <tr>\n",
       "        <td>24</td>\n",
       "        <td>Adams-Normandie</td>\n",
       "    </tr>\n",
       "    <tr>\n",
       "        <td>35</td>\n",
       "        <td>Agoura Hills</td>\n",
       "    </tr>\n",
       "    <tr>\n",
       "        <td>15</td>\n",
       "        <td>Agua Dulce</td>\n",
       "    </tr>\n",
       "    <tr>\n",
       "        <td>269</td>\n",
       "        <td>Alhambra</td>\n",
       "    </tr>\n",
       "    <tr>\n",
       "        <td>13</td>\n",
       "        <td>Alondra Park</td>\n",
       "    </tr>\n",
       "    <tr>\n",
       "        <td>183</td>\n",
       "        <td>Altadena</td>\n",
       "    </tr>\n",
       "    <tr>\n",
       "        <td>5</td>\n",
       "        <td>Angeles Crest</td>\n",
       "    </tr>\n",
       "    <tr>\n",
       "        <td>125</td>\n",
       "        <td>Arcadia</td>\n",
       "    </tr>\n",
       "    <tr>\n",
       "        <td>6</td>\n",
       "        <td>Arleta</td>\n",
       "    </tr>\n",
       "    <tr>\n",
       "        <td>89</td>\n",
       "        <td>Arlington Heights</td>\n",
       "    </tr>\n",
       "    <tr>\n",
       "        <td>12</td>\n",
       "        <td>Artesia</td>\n",
       "    </tr>\n",
       "    <tr>\n",
       "        <td>4</td>\n",
       "        <td>Athens</td>\n",
       "    </tr>\n",
       "    <tr>\n",
       "        <td>70</td>\n",
       "        <td>Atwater Village</td>\n",
       "    </tr>\n",
       "    <tr>\n",
       "        <td>160</td>\n",
       "        <td>Avalon</td>\n",
       "    </tr>\n",
       "    <tr>\n",
       "        <td>11</td>\n",
       "        <td>Avocado Heights</td>\n",
       "    </tr>\n",
       "    <tr>\n",
       "        <td>43</td>\n",
       "        <td>Azusa</td>\n",
       "    </tr>\n",
       "    <tr>\n",
       "        <td>39</td>\n",
       "        <td>Baldwin Hills/Crenshaw</td>\n",
       "    </tr>\n",
       "    <tr>\n",
       "        <td>28</td>\n",
       "        <td>Baldwin Park</td>\n",
       "    </tr>\n",
       "    <tr>\n",
       "        <td>26</td>\n",
       "        <td>Bel-Air</td>\n",
       "    </tr>\n",
       "    <tr>\n",
       "        <td>5</td>\n",
       "        <td>Bell</td>\n",
       "    </tr>\n",
       "    <tr>\n",
       "        <td>3</td>\n",
       "        <td>Bell Gardens</td>\n",
       "    </tr>\n",
       "    <tr>\n",
       "        <td>19</td>\n",
       "        <td>Bellflower</td>\n",
       "    </tr>\n",
       "    <tr>\n",
       "        <td>73</td>\n",
       "        <td>Beverly Crest</td>\n",
       "    </tr>\n",
       "    <tr>\n",
       "        <td>300</td>\n",
       "        <td>Beverly Grove</td>\n",
       "    </tr>\n",
       "    <tr>\n",
       "        <td>306</td>\n",
       "        <td>Beverly Hills</td>\n",
       "    </tr>\n",
       "    <tr>\n",
       "        <td>19</td>\n",
       "        <td>Beverlywood</td>\n",
       "    </tr>\n",
       "    <tr>\n",
       "        <td>57</td>\n",
       "        <td>Boyle Heights</td>\n",
       "    </tr>\n",
       "    <tr>\n",
       "        <td>137</td>\n",
       "        <td>Brentwood</td>\n",
       "    </tr>\n",
       "    <tr>\n",
       "        <td>7</td>\n",
       "        <td>Broadway-Manchester</td>\n",
       "    </tr>\n",
       "    <tr>\n",
       "        <td>282</td>\n",
       "        <td>Burbank</td>\n",
       "    </tr>\n",
       "    <tr>\n",
       "        <td>50</td>\n",
       "        <td>Calabasas</td>\n",
       "    </tr>\n",
       "    <tr>\n",
       "        <td>38</td>\n",
       "        <td>Canoga Park</td>\n",
       "    </tr>\n",
       "    <tr>\n",
       "        <td>65</td>\n",
       "        <td>Carson</td>\n",
       "    </tr>\n",
       "    <tr>\n",
       "        <td>53</td>\n",
       "        <td>Carthay</td>\n",
       "    </tr>\n",
       "    <tr>\n",
       "        <td>10</td>\n",
       "        <td>Castaic</td>\n",
       "    </tr>\n",
       "    <tr>\n",
       "        <td>13</td>\n",
       "        <td>Castaic Canyons</td>\n",
       "    </tr>\n",
       "    <tr>\n",
       "        <td>8</td>\n",
       "        <td>Central-Alameda</td>\n",
       "    </tr>\n",
       "    <tr>\n",
       "        <td>16</td>\n",
       "        <td>Century City</td>\n",
       "    </tr>\n",
       "    <tr>\n",
       "        <td>25</td>\n",
       "        <td>Cerritos</td>\n",
       "    </tr>\n",
       "    <tr>\n",
       "        <td>8</td>\n",
       "        <td>Charter Oak</td>\n",
       "    </tr>\n",
       "    <tr>\n",
       "        <td>37</td>\n",
       "        <td>Chatsworth</td>\n",
       "    </tr>\n",
       "    <tr>\n",
       "        <td>1</td>\n",
       "        <td>Chatsworth Reservoir</td>\n",
       "    </tr>\n",
       "    <tr>\n",
       "        <td>9</td>\n",
       "        <td>Chesterfield Square</td>\n",
       "    </tr>\n",
       "    <tr>\n",
       "        <td>26</td>\n",
       "        <td>Cheviot Hills</td>\n",
       "    </tr>\n",
       "    <tr>\n",
       "        <td>36</td>\n",
       "        <td>Chinatown</td>\n",
       "    </tr>\n",
       "    <tr>\n",
       "        <td>2</td>\n",
       "        <td>Citrus</td>\n",
       "    </tr>\n",
       "    <tr>\n",
       "        <td>42</td>\n",
       "        <td>Claremont</td>\n",
       "    </tr>\n",
       "    <tr>\n",
       "        <td>16</td>\n",
       "        <td>Commerce</td>\n",
       "    </tr>\n",
       "    <tr>\n",
       "        <td>18</td>\n",
       "        <td>Compton</td>\n",
       "    </tr>\n",
       "    <tr>\n",
       "        <td>33</td>\n",
       "        <td>Covina</td>\n",
       "    </tr>\n",
       "    <tr>\n",
       "        <td>270</td>\n",
       "        <td>Culver City</td>\n",
       "    </tr>\n",
       "    <tr>\n",
       "        <td>7</td>\n",
       "        <td>Cypress Park</td>\n",
       "    </tr>\n",
       "    <tr>\n",
       "        <td>40</td>\n",
       "        <td>Del Aire</td>\n",
       "    </tr>\n",
       "    <tr>\n",
       "        <td>162</td>\n",
       "        <td>Del Rey</td>\n",
       "    </tr>\n",
       "    <tr>\n",
       "        <td>3</td>\n",
       "        <td>Desert View Highlands</td>\n",
       "    </tr>\n",
       "    <tr>\n",
       "        <td>118</td>\n",
       "        <td>Diamond Bar</td>\n",
       "    </tr>\n",
       "    <tr>\n",
       "        <td>50</td>\n",
       "        <td>Downey</td>\n",
       "    </tr>\n",
       "    <tr>\n",
       "        <td>596</td>\n",
       "        <td>Downtown</td>\n",
       "    </tr>\n",
       "    <tr>\n",
       "        <td>16</td>\n",
       "        <td>Duarte</td>\n",
       "    </tr>\n",
       "    <tr>\n",
       "        <td>110</td>\n",
       "        <td>Eagle Rock</td>\n",
       "    </tr>\n",
       "    <tr>\n",
       "        <td>1</td>\n",
       "        <td>East Compton</td>\n",
       "    </tr>\n",
       "    <tr>\n",
       "        <td>250</td>\n",
       "        <td>East Hollywood</td>\n",
       "    </tr>\n",
       "    <tr>\n",
       "        <td>115</td>\n",
       "        <td>East Los Angeles</td>\n",
       "    </tr>\n",
       "    <tr>\n",
       "        <td>32</td>\n",
       "        <td>East Pasadena</td>\n",
       "    </tr>\n",
       "    <tr>\n",
       "        <td>55</td>\n",
       "        <td>East San Gabriel</td>\n",
       "    </tr>\n",
       "    <tr>\n",
       "        <td>3</td>\n",
       "        <td>East Whittier</td>\n",
       "    </tr>\n",
       "    <tr>\n",
       "        <td>307</td>\n",
       "        <td>Echo Park</td>\n",
       "    </tr>\n",
       "    <tr>\n",
       "        <td>104</td>\n",
       "        <td>El Monte</td>\n",
       "    </tr>\n",
       "    <tr>\n",
       "        <td>133</td>\n",
       "        <td>El Segundo</td>\n",
       "    </tr>\n",
       "    <tr>\n",
       "        <td>42</td>\n",
       "        <td>El Sereno</td>\n",
       "    </tr>\n",
       "    <tr>\n",
       "        <td>1</td>\n",
       "        <td>Elizabeth Lake</td>\n",
       "    </tr>\n",
       "    <tr>\n",
       "        <td>8</td>\n",
       "        <td>Elysian Park</td>\n",
       "    </tr>\n",
       "    <tr>\n",
       "        <td>14</td>\n",
       "        <td>Elysian Valley</td>\n",
       "    </tr>\n",
       "    <tr>\n",
       "        <td>85</td>\n",
       "        <td>Encino</td>\n",
       "    </tr>\n",
       "    <tr>\n",
       "        <td>76</td>\n",
       "        <td>Exposition Park</td>\n",
       "    </tr>\n",
       "    <tr>\n",
       "        <td>173</td>\n",
       "        <td>Fairfax</td>\n",
       "    </tr>\n",
       "    <tr>\n",
       "        <td>5</td>\n",
       "        <td>Florence</td>\n",
       "    </tr>\n",
       "    <tr>\n",
       "        <td>23</td>\n",
       "        <td>Florence-Firestone</td>\n",
       "    </tr>\n",
       "    <tr>\n",
       "        <td>96</td>\n",
       "        <td>Gardena</td>\n",
       "    </tr>\n",
       "    <tr>\n",
       "        <td>54</td>\n",
       "        <td>Glassell Park</td>\n",
       "    </tr>\n",
       "    <tr>\n",
       "        <td>445</td>\n",
       "        <td>Glendale</td>\n",
       "    </tr>\n",
       "    <tr>\n",
       "        <td>47</td>\n",
       "        <td>Glendora</td>\n",
       "    </tr>\n",
       "    <tr>\n",
       "        <td>15</td>\n",
       "        <td>Gramercy Park</td>\n",
       "    </tr>\n",
       "    <tr>\n",
       "        <td>26</td>\n",
       "        <td>Granada Hills</td>\n",
       "    </tr>\n",
       "    <tr>\n",
       "        <td>3</td>\n",
       "        <td>Green Meadows</td>\n",
       "    </tr>\n",
       "    <tr>\n",
       "        <td>9</td>\n",
       "        <td>Green Valley</td>\n",
       "    </tr>\n",
       "    <tr>\n",
       "        <td>7</td>\n",
       "        <td>Griffith Park</td>\n",
       "    </tr>\n",
       "    <tr>\n",
       "        <td>152</td>\n",
       "        <td>Hacienda Heights</td>\n",
       "    </tr>\n",
       "    <tr>\n",
       "        <td>63</td>\n",
       "        <td>Hancock Park</td>\n",
       "    </tr>\n",
       "    <tr>\n",
       "        <td>14</td>\n",
       "        <td>Harbor City</td>\n",
       "    </tr>\n",
       "    <tr>\n",
       "        <td>27</td>\n",
       "        <td>Harbor Gateway</td>\n",
       "    </tr>\n",
       "    <tr>\n",
       "        <td>61</td>\n",
       "        <td>Harvard Heights</td>\n",
       "    </tr>\n",
       "    <tr>\n",
       "        <td>3</td>\n",
       "        <td>Harvard Park</td>\n",
       "    </tr>\n",
       "    <tr>\n",
       "        <td>3</td>\n",
       "        <td>Hasley Canyon</td>\n",
       "    </tr>\n",
       "    <tr>\n",
       "        <td>1</td>\n",
       "        <td>Hawaiian Gardens</td>\n",
       "    </tr>\n",
       "    <tr>\n",
       "        <td>146</td>\n",
       "        <td>Hawthorne</td>\n",
       "    </tr>\n",
       "    <tr>\n",
       "        <td>165</td>\n",
       "        <td>Hermosa Beach</td>\n",
       "    </tr>\n",
       "    <tr>\n",
       "        <td>131</td>\n",
       "        <td>Highland Park</td>\n",
       "    </tr>\n",
       "    <tr>\n",
       "        <td>84</td>\n",
       "        <td>Historic South-Central</td>\n",
       "    </tr>\n",
       "    <tr>\n",
       "        <td>1087</td>\n",
       "        <td>Hollywood</td>\n",
       "    </tr>\n",
       "    <tr>\n",
       "        <td>510</td>\n",
       "        <td>Hollywood Hills</td>\n",
       "    </tr>\n",
       "    <tr>\n",
       "        <td>317</td>\n",
       "        <td>Hollywood Hills West</td>\n",
       "    </tr>\n",
       "    <tr>\n",
       "        <td>6</td>\n",
       "        <td>Huntington Park</td>\n",
       "    </tr>\n",
       "    <tr>\n",
       "        <td>49</td>\n",
       "        <td>Hyde Park</td>\n",
       "    </tr>\n",
       "    <tr>\n",
       "        <td>31</td>\n",
       "        <td>Industry</td>\n",
       "    </tr>\n",
       "    <tr>\n",
       "        <td>390</td>\n",
       "        <td>Inglewood</td>\n",
       "    </tr>\n",
       "    <tr>\n",
       "        <td>6</td>\n",
       "        <td>Irwindale</td>\n",
       "    </tr>\n",
       "    <tr>\n",
       "        <td>59</td>\n",
       "        <td>Jefferson Park</td>\n",
       "    </tr>\n",
       "    <tr>\n",
       "        <td>300</td>\n",
       "        <td>Koreatown</td>\n",
       "    </tr>\n",
       "    <tr>\n",
       "        <td>24</td>\n",
       "        <td>La Canada Flintridge</td>\n",
       "    </tr>\n",
       "    <tr>\n",
       "        <td>27</td>\n",
       "        <td>La Crescenta-Montrose</td>\n",
       "    </tr>\n",
       "    <tr>\n",
       "        <td>8</td>\n",
       "        <td>La Habra Heights</td>\n",
       "    </tr>\n",
       "    <tr>\n",
       "        <td>6</td>\n",
       "        <td>La Mirada</td>\n",
       "    </tr>\n",
       "    <tr>\n",
       "        <td>21</td>\n",
       "        <td>La Puente</td>\n",
       "    </tr>\n",
       "    <tr>\n",
       "        <td>24</td>\n",
       "        <td>La Verne</td>\n",
       "    </tr>\n",
       "    <tr>\n",
       "        <td>40</td>\n",
       "        <td>Ladera Heights</td>\n",
       "    </tr>\n",
       "    <tr>\n",
       "        <td>50</td>\n",
       "        <td>Lake Balboa</td>\n",
       "    </tr>\n",
       "    <tr>\n",
       "        <td>3</td>\n",
       "        <td>Lake Hughes</td>\n",
       "    </tr>\n",
       "    <tr>\n",
       "        <td>5</td>\n",
       "        <td>Lake Los Angeles</td>\n",
       "    </tr>\n",
       "    <tr>\n",
       "        <td>4</td>\n",
       "        <td>Lake View Terrace</td>\n",
       "    </tr>\n",
       "    <tr>\n",
       "        <td>33</td>\n",
       "        <td>Lakewood</td>\n",
       "    </tr>\n",
       "    <tr>\n",
       "        <td>120</td>\n",
       "        <td>Lancaster</td>\n",
       "    </tr>\n",
       "    <tr>\n",
       "        <td>52</td>\n",
       "        <td>Larchmont</td>\n",
       "    </tr>\n",
       "    <tr>\n",
       "        <td>69</td>\n",
       "        <td>Lawndale</td>\n",
       "    </tr>\n",
       "    <tr>\n",
       "        <td>28</td>\n",
       "        <td>Leimert Park</td>\n",
       "    </tr>\n",
       "    <tr>\n",
       "        <td>23</td>\n",
       "        <td>Lennox</td>\n",
       "    </tr>\n",
       "    <tr>\n",
       "        <td>1</td>\n",
       "        <td>Leona Valley</td>\n",
       "    </tr>\n",
       "    <tr>\n",
       "        <td>34</td>\n",
       "        <td>Lincoln Heights</td>\n",
       "    </tr>\n",
       "    <tr>\n",
       "        <td>21</td>\n",
       "        <td>Lomita</td>\n",
       "    </tr>\n",
       "    <tr>\n",
       "        <td>1116</td>\n",
       "        <td>Long Beach</td>\n",
       "    </tr>\n",
       "    <tr>\n",
       "        <td>1</td>\n",
       "        <td>Lopez/Kagel Canyons</td>\n",
       "    </tr>\n",
       "    <tr>\n",
       "        <td>209</td>\n",
       "        <td>Los Feliz</td>\n",
       "    </tr>\n",
       "    <tr>\n",
       "        <td>20</td>\n",
       "        <td>Lynwood</td>\n",
       "    </tr>\n",
       "    <tr>\n",
       "        <td>222</td>\n",
       "        <td>Malibu</td>\n",
       "    </tr>\n",
       "    <tr>\n",
       "        <td>10</td>\n",
       "        <td>Manchester Square</td>\n",
       "    </tr>\n",
       "    <tr>\n",
       "        <td>135</td>\n",
       "        <td>Manhattan Beach</td>\n",
       "    </tr>\n",
       "    <tr>\n",
       "        <td>228</td>\n",
       "        <td>Mar Vista</td>\n",
       "    </tr>\n",
       "    <tr>\n",
       "        <td>184</td>\n",
       "        <td>Marina del Rey</td>\n",
       "    </tr>\n",
       "    <tr>\n",
       "        <td>31</td>\n",
       "        <td>Mayflower Village</td>\n",
       "    </tr>\n",
       "    <tr>\n",
       "        <td>8</td>\n",
       "        <td>Maywood</td>\n",
       "    </tr>\n",
       "    <tr>\n",
       "        <td>287</td>\n",
       "        <td>Mid-City</td>\n",
       "    </tr>\n",
       "    <tr>\n",
       "        <td>310</td>\n",
       "        <td>Mid-Wilshire</td>\n",
       "    </tr>\n",
       "    <tr>\n",
       "        <td>5</td>\n",
       "        <td>Mission Hills</td>\n",
       "    </tr>\n",
       "    <tr>\n",
       "        <td>94</td>\n",
       "        <td>Monrovia</td>\n",
       "    </tr>\n",
       "    <tr>\n",
       "        <td>26</td>\n",
       "        <td>Montebello</td>\n",
       "    </tr>\n",
       "    <tr>\n",
       "        <td>50</td>\n",
       "        <td>Montecito Heights</td>\n",
       "    </tr>\n",
       "    <tr>\n",
       "        <td>170</td>\n",
       "        <td>Monterey Park</td>\n",
       "    </tr>\n",
       "    <tr>\n",
       "        <td>81</td>\n",
       "        <td>Mount Washington</td>\n",
       "    </tr>\n",
       "    <tr>\n",
       "        <td>12</td>\n",
       "        <td>North El Monte</td>\n",
       "    </tr>\n",
       "    <tr>\n",
       "        <td>27</td>\n",
       "        <td>North Hills</td>\n",
       "    </tr>\n",
       "    <tr>\n",
       "        <td>269</td>\n",
       "        <td>North Hollywood</td>\n",
       "    </tr>\n",
       "    <tr>\n",
       "        <td>3</td>\n",
       "        <td>North Whittier</td>\n",
       "    </tr>\n",
       "    <tr>\n",
       "        <td>7</td>\n",
       "        <td>Northeast Antelope Valley</td>\n",
       "    </tr>\n",
       "    <tr>\n",
       "        <td>68</td>\n",
       "        <td>Northridge</td>\n",
       "    </tr>\n",
       "    <tr>\n",
       "        <td>11</td>\n",
       "        <td>Northwest Palmdale</td>\n",
       "    </tr>\n",
       "    <tr>\n",
       "        <td>42</td>\n",
       "        <td>Norwalk</td>\n",
       "    </tr>\n",
       "    <tr>\n",
       "        <td>109</td>\n",
       "        <td>Pacific Palisades</td>\n",
       "    </tr>\n",
       "    <tr>\n",
       "        <td>10</td>\n",
       "        <td>Pacoima</td>\n",
       "    </tr>\n",
       "    <tr>\n",
       "        <td>68</td>\n",
       "        <td>Palmdale</td>\n",
       "    </tr>\n",
       "    <tr>\n",
       "        <td>166</td>\n",
       "        <td>Palms</td>\n",
       "    </tr>\n",
       "    <tr>\n",
       "        <td>6</td>\n",
       "        <td>Palos Verdes Estates</td>\n",
       "    </tr>\n",
       "    <tr>\n",
       "        <td>19</td>\n",
       "        <td>Panorama City</td>\n",
       "    </tr>\n",
       "    <tr>\n",
       "        <td>9</td>\n",
       "        <td>Paramount</td>\n",
       "    </tr>\n",
       "    <tr>\n",
       "        <td>330</td>\n",
       "        <td>Pasadena</td>\n",
       "    </tr>\n",
       "    <tr>\n",
       "        <td>26</td>\n",
       "        <td>Pico Rivera</td>\n",
       "    </tr>\n",
       "    <tr>\n",
       "        <td>104</td>\n",
       "        <td>Pico-Robertson</td>\n",
       "    </tr>\n",
       "    <tr>\n",
       "        <td>65</td>\n",
       "        <td>Pico-Union</td>\n",
       "    </tr>\n",
       "    <tr>\n",
       "        <td>54</td>\n",
       "        <td>Playa Vista</td>\n",
       "    </tr>\n",
       "    <tr>\n",
       "        <td>82</td>\n",
       "        <td>Playa del Rey</td>\n",
       "    </tr>\n",
       "    <tr>\n",
       "        <td>98</td>\n",
       "        <td>Pomona</td>\n",
       "    </tr>\n",
       "    <tr>\n",
       "        <td>12</td>\n",
       "        <td>Porter Ranch</td>\n",
       "    </tr>\n",
       "    <tr>\n",
       "        <td>12</td>\n",
       "        <td>Quartz Hill</td>\n",
       "    </tr>\n",
       "    <tr>\n",
       "        <td>4</td>\n",
       "        <td>Rancho Dominguez</td>\n",
       "    </tr>\n",
       "    <tr>\n",
       "        <td>58</td>\n",
       "        <td>Rancho Palos Verdes</td>\n",
       "    </tr>\n",
       "    <tr>\n",
       "        <td>20</td>\n",
       "        <td>Rancho Park</td>\n",
       "    </tr>\n",
       "    <tr>\n",
       "        <td>263</td>\n",
       "        <td>Redondo Beach</td>\n",
       "    </tr>\n",
       "    <tr>\n",
       "        <td>84</td>\n",
       "        <td>Reseda</td>\n",
       "    </tr>\n",
       "    <tr>\n",
       "        <td>4</td>\n",
       "        <td>Ridge Route</td>\n",
       "    </tr>\n",
       "    <tr>\n",
       "        <td>5</td>\n",
       "        <td>Rolling Hills</td>\n",
       "    </tr>\n",
       "    <tr>\n",
       "        <td>5</td>\n",
       "        <td>Rolling Hills Estates</td>\n",
       "    </tr>\n",
       "    <tr>\n",
       "        <td>80</td>\n",
       "        <td>Rosemead</td>\n",
       "    </tr>\n",
       "    <tr>\n",
       "        <td>389</td>\n",
       "        <td>Rowland Heights</td>\n",
       "    </tr>\n",
       "    <tr>\n",
       "        <td>27</td>\n",
       "        <td>San Dimas</td>\n",
       "    </tr>\n",
       "    <tr>\n",
       "        <td>8</td>\n",
       "        <td>San Fernando</td>\n",
       "    </tr>\n",
       "    <tr>\n",
       "        <td>90</td>\n",
       "        <td>San Gabriel</td>\n",
       "    </tr>\n",
       "    <tr>\n",
       "        <td>6</td>\n",
       "        <td>San Marino</td>\n",
       "    </tr>\n",
       "    <tr>\n",
       "        <td>15</td>\n",
       "        <td>San Pasqual</td>\n",
       "    </tr>\n",
       "    <tr>\n",
       "        <td>74</td>\n",
       "        <td>San Pedro</td>\n",
       "    </tr>\n",
       "    <tr>\n",
       "        <td>105</td>\n",
       "        <td>Santa Clarita</td>\n",
       "    </tr>\n",
       "    <tr>\n",
       "        <td>2</td>\n",
       "        <td>Santa Fe Springs</td>\n",
       "    </tr>\n",
       "    <tr>\n",
       "        <td>858</td>\n",
       "        <td>Santa Monica</td>\n",
       "    </tr>\n",
       "    <tr>\n",
       "        <td>338</td>\n",
       "        <td>Sawtelle</td>\n",
       "    </tr>\n",
       "    <tr>\n",
       "        <td>2</td>\n",
       "        <td>Sepulveda Basin</td>\n",
       "    </tr>\n",
       "    <tr>\n",
       "        <td>19</td>\n",
       "        <td>Shadow Hills</td>\n",
       "    </tr>\n",
       "    <tr>\n",
       "        <td>282</td>\n",
       "        <td>Sherman Oaks</td>\n",
       "    </tr>\n",
       "    <tr>\n",
       "        <td>23</td>\n",
       "        <td>Sierra Madre</td>\n",
       "    </tr>\n",
       "    <tr>\n",
       "        <td>30</td>\n",
       "        <td>Signal Hill</td>\n",
       "    </tr>\n",
       "    <tr>\n",
       "        <td>403</td>\n",
       "        <td>Silver Lake</td>\n",
       "    </tr>\n",
       "    <tr>\n",
       "        <td>2</td>\n",
       "        <td>South El Monte</td>\n",
       "    </tr>\n",
       "    <tr>\n",
       "        <td>12</td>\n",
       "        <td>South Gate</td>\n",
       "    </tr>\n",
       "    <tr>\n",
       "        <td>11</td>\n",
       "        <td>South Park</td>\n",
       "    </tr>\n",
       "    <tr>\n",
       "        <td>64</td>\n",
       "        <td>South Pasadena</td>\n",
       "    </tr>\n",
       "    <tr>\n",
       "        <td>21</td>\n",
       "        <td>South San Gabriel</td>\n",
       "    </tr>\n",
       "    <tr>\n",
       "        <td>6</td>\n",
       "        <td>South San Jose Hills</td>\n",
       "    </tr>\n",
       "    <tr>\n",
       "        <td>13</td>\n",
       "        <td>South Whittier</td>\n",
       "    </tr>\n",
       "    <tr>\n",
       "        <td>9</td>\n",
       "        <td>Southeast Antelope Valley</td>\n",
       "    </tr>\n",
       "    <tr>\n",
       "        <td>5</td>\n",
       "        <td>Stevenson Ranch</td>\n",
       "    </tr>\n",
       "    <tr>\n",
       "        <td>223</td>\n",
       "        <td>Studio City</td>\n",
       "    </tr>\n",
       "    <tr>\n",
       "        <td>57</td>\n",
       "        <td>Sun Valley</td>\n",
       "    </tr>\n",
       "    <tr>\n",
       "        <td>5</td>\n",
       "        <td>Sun Village</td>\n",
       "    </tr>\n",
       "    <tr>\n",
       "        <td>6</td>\n",
       "        <td>Sunland</td>\n",
       "    </tr>\n",
       "    <tr>\n",
       "        <td>19</td>\n",
       "        <td>Sylmar</td>\n",
       "    </tr>\n",
       "    <tr>\n",
       "        <td>89</td>\n",
       "        <td>Tarzana</td>\n",
       "    </tr>\n",
       "    <tr>\n",
       "        <td>87</td>\n",
       "        <td>Temple City</td>\n",
       "    </tr>\n",
       "    <tr>\n",
       "        <td>37</td>\n",
       "        <td>Toluca Lake</td>\n",
       "    </tr>\n",
       "    <tr>\n",
       "        <td>250</td>\n",
       "        <td>Topanga</td>\n",
       "    </tr>\n",
       "    <tr>\n",
       "        <td>198</td>\n",
       "        <td>Torrance</td>\n",
       "    </tr>\n",
       "    <tr>\n",
       "        <td>15</td>\n",
       "        <td>Tujunga</td>\n",
       "    </tr>\n",
       "    <tr>\n",
       "        <td>2</td>\n",
       "        <td>Tujunga Canyons</td>\n",
       "    </tr>\n",
       "    <tr>\n",
       "        <td>19</td>\n",
       "        <td>Unincorporated Catalina Island</td>\n",
       "    </tr>\n",
       "    <tr>\n",
       "        <td>113</td>\n",
       "        <td>Unincorporated Santa Monica Mountains</td>\n",
       "    </tr>\n",
       "    <tr>\n",
       "        <td>11</td>\n",
       "        <td>Unincorporated Santa Susana Mountains</td>\n",
       "    </tr>\n",
       "    <tr>\n",
       "        <td>7</td>\n",
       "        <td>Universal City</td>\n",
       "    </tr>\n",
       "    <tr>\n",
       "        <td>57</td>\n",
       "        <td>University Park</td>\n",
       "    </tr>\n",
       "    <tr>\n",
       "        <td>5</td>\n",
       "        <td>Val Verde</td>\n",
       "    </tr>\n",
       "    <tr>\n",
       "        <td>18</td>\n",
       "        <td>Valinda</td>\n",
       "    </tr>\n",
       "    <tr>\n",
       "        <td>108</td>\n",
       "        <td>Valley Glen</td>\n",
       "    </tr>\n",
       "    <tr>\n",
       "        <td>114</td>\n",
       "        <td>Valley Village</td>\n",
       "    </tr>\n",
       "    <tr>\n",
       "        <td>135</td>\n",
       "        <td>Van Nuys</td>\n",
       "    </tr>\n",
       "    <tr>\n",
       "        <td>1264</td>\n",
       "        <td>Venice</td>\n",
       "    </tr>\n",
       "    <tr>\n",
       "        <td>23</td>\n",
       "        <td>Vermont Knolls</td>\n",
       "    </tr>\n",
       "    <tr>\n",
       "        <td>45</td>\n",
       "        <td>Vermont Square</td>\n",
       "    </tr>\n",
       "    <tr>\n",
       "        <td>5</td>\n",
       "        <td>Vermont Vista</td>\n",
       "    </tr>\n",
       "    <tr>\n",
       "        <td>12</td>\n",
       "        <td>Vermont-Slauson</td>\n",
       "    </tr>\n",
       "    <tr>\n",
       "        <td>5</td>\n",
       "        <td>Vernon</td>\n",
       "    </tr>\n",
       "    <tr>\n",
       "        <td>11</td>\n",
       "        <td>Veterans Administration</td>\n",
       "    </tr>\n",
       "    <tr>\n",
       "        <td>68</td>\n",
       "        <td>View Park-Windsor Hills</td>\n",
       "    </tr>\n",
       "    <tr>\n",
       "        <td>4</td>\n",
       "        <td>Vincent</td>\n",
       "    </tr>\n",
       "    <tr>\n",
       "        <td>49</td>\n",
       "        <td>Walnut</td>\n",
       "    </tr>\n",
       "    <tr>\n",
       "        <td>21</td>\n",
       "        <td>Watts</td>\n",
       "    </tr>\n",
       "    <tr>\n",
       "        <td>77</td>\n",
       "        <td>West Adams</td>\n",
       "    </tr>\n",
       "    <tr>\n",
       "        <td>28</td>\n",
       "        <td>West Carson</td>\n",
       "    </tr>\n",
       "    <tr>\n",
       "        <td>3</td>\n",
       "        <td>West Compton</td>\n",
       "    </tr>\n",
       "    <tr>\n",
       "        <td>107</td>\n",
       "        <td>West Covina</td>\n",
       "    </tr>\n",
       "    <tr>\n",
       "        <td>51</td>\n",
       "        <td>West Hills</td>\n",
       "    </tr>\n",
       "    <tr>\n",
       "        <td>480</td>\n",
       "        <td>West Hollywood</td>\n",
       "    </tr>\n",
       "    <tr>\n",
       "        <td>116</td>\n",
       "        <td>West Los Angeles</td>\n",
       "    </tr>\n",
       "    <tr>\n",
       "        <td>6</td>\n",
       "        <td>West Puente Valley</td>\n",
       "    </tr>\n",
       "    <tr>\n",
       "        <td>5</td>\n",
       "        <td>West Whittier-Los Nietos</td>\n",
       "    </tr>\n",
       "    <tr>\n",
       "        <td>151</td>\n",
       "        <td>Westchester</td>\n",
       "    </tr>\n",
       "    <tr>\n",
       "        <td>319</td>\n",
       "        <td>Westlake</td>\n",
       "    </tr>\n",
       "    <tr>\n",
       "        <td>5</td>\n",
       "        <td>Westlake Village</td>\n",
       "    </tr>\n",
       "    <tr>\n",
       "        <td>21</td>\n",
       "        <td>Westmont</td>\n",
       "    </tr>\n",
       "    <tr>\n",
       "        <td>267</td>\n",
       "        <td>Westwood</td>\n",
       "    </tr>\n",
       "    <tr>\n",
       "        <td>54</td>\n",
       "        <td>Whittier</td>\n",
       "    </tr>\n",
       "    <tr>\n",
       "        <td>19</td>\n",
       "        <td>Willowbrook</td>\n",
       "    </tr>\n",
       "    <tr>\n",
       "        <td>32</td>\n",
       "        <td>Wilmington</td>\n",
       "    </tr>\n",
       "    <tr>\n",
       "        <td>22</td>\n",
       "        <td>Windsor Square</td>\n",
       "    </tr>\n",
       "    <tr>\n",
       "        <td>59</td>\n",
       "        <td>Winnetka</td>\n",
       "    </tr>\n",
       "    <tr>\n",
       "        <td>191</td>\n",
       "        <td>Woodland Hills</td>\n",
       "    </tr>\n",
       "</table>"
      ],
      "text/plain": [
       "[(4, 'Acton'),\n",
       " (24, 'Adams-Normandie'),\n",
       " (35, 'Agoura Hills'),\n",
       " (15, 'Agua Dulce'),\n",
       " (269, 'Alhambra'),\n",
       " (13, 'Alondra Park'),\n",
       " (183, 'Altadena'),\n",
       " (5, 'Angeles Crest'),\n",
       " (125, 'Arcadia'),\n",
       " (6, 'Arleta'),\n",
       " (89, 'Arlington Heights'),\n",
       " (12, 'Artesia'),\n",
       " (4, 'Athens'),\n",
       " (70, 'Atwater Village'),\n",
       " (160, 'Avalon'),\n",
       " (11, 'Avocado Heights'),\n",
       " (43, 'Azusa'),\n",
       " (39, 'Baldwin Hills/Crenshaw'),\n",
       " (28, 'Baldwin Park'),\n",
       " (26, 'Bel-Air'),\n",
       " (5, 'Bell'),\n",
       " (3, 'Bell Gardens'),\n",
       " (19, 'Bellflower'),\n",
       " (73, 'Beverly Crest'),\n",
       " (300, 'Beverly Grove'),\n",
       " (306, 'Beverly Hills'),\n",
       " (19, 'Beverlywood'),\n",
       " (57, 'Boyle Heights'),\n",
       " (137, 'Brentwood'),\n",
       " (7, 'Broadway-Manchester'),\n",
       " (282, 'Burbank'),\n",
       " (50, 'Calabasas'),\n",
       " (38, 'Canoga Park'),\n",
       " (65, 'Carson'),\n",
       " (53, 'Carthay'),\n",
       " (10, 'Castaic'),\n",
       " (13, 'Castaic Canyons'),\n",
       " (8, 'Central-Alameda'),\n",
       " (16, 'Century City'),\n",
       " (25, 'Cerritos'),\n",
       " (8, 'Charter Oak'),\n",
       " (37, 'Chatsworth'),\n",
       " (1, 'Chatsworth Reservoir'),\n",
       " (9, 'Chesterfield Square'),\n",
       " (26, 'Cheviot Hills'),\n",
       " (36, 'Chinatown'),\n",
       " (2, 'Citrus'),\n",
       " (42, 'Claremont'),\n",
       " (16, 'Commerce'),\n",
       " (18, 'Compton'),\n",
       " (33, 'Covina'),\n",
       " (270, 'Culver City'),\n",
       " (7, 'Cypress Park'),\n",
       " (40, 'Del Aire'),\n",
       " (162, 'Del Rey'),\n",
       " (3, 'Desert View Highlands'),\n",
       " (118, 'Diamond Bar'),\n",
       " (50, 'Downey'),\n",
       " (596, 'Downtown'),\n",
       " (16, 'Duarte'),\n",
       " (110, 'Eagle Rock'),\n",
       " (1, 'East Compton'),\n",
       " (250, 'East Hollywood'),\n",
       " (115, 'East Los Angeles'),\n",
       " (32, 'East Pasadena'),\n",
       " (55, 'East San Gabriel'),\n",
       " (3, 'East Whittier'),\n",
       " (307, 'Echo Park'),\n",
       " (104, 'El Monte'),\n",
       " (133, 'El Segundo'),\n",
       " (42, 'El Sereno'),\n",
       " (1, 'Elizabeth Lake'),\n",
       " (8, 'Elysian Park'),\n",
       " (14, 'Elysian Valley'),\n",
       " (85, 'Encino'),\n",
       " (76, 'Exposition Park'),\n",
       " (173, 'Fairfax'),\n",
       " (5, 'Florence'),\n",
       " (23, 'Florence-Firestone'),\n",
       " (96, 'Gardena'),\n",
       " (54, 'Glassell Park'),\n",
       " (445, 'Glendale'),\n",
       " (47, 'Glendora'),\n",
       " (15, 'Gramercy Park'),\n",
       " (26, 'Granada Hills'),\n",
       " (3, 'Green Meadows'),\n",
       " (9, 'Green Valley'),\n",
       " (7, 'Griffith Park'),\n",
       " (152, 'Hacienda Heights'),\n",
       " (63, 'Hancock Park'),\n",
       " (14, 'Harbor City'),\n",
       " (27, 'Harbor Gateway'),\n",
       " (61, 'Harvard Heights'),\n",
       " (3, 'Harvard Park'),\n",
       " (3, 'Hasley Canyon'),\n",
       " (1, 'Hawaiian Gardens'),\n",
       " (146, 'Hawthorne'),\n",
       " (165, 'Hermosa Beach'),\n",
       " (131, 'Highland Park'),\n",
       " (84, 'Historic South-Central'),\n",
       " (1087, 'Hollywood'),\n",
       " (510, 'Hollywood Hills'),\n",
       " (317, 'Hollywood Hills West'),\n",
       " (6, 'Huntington Park'),\n",
       " (49, 'Hyde Park'),\n",
       " (31, 'Industry'),\n",
       " (390, 'Inglewood'),\n",
       " (6, 'Irwindale'),\n",
       " (59, 'Jefferson Park'),\n",
       " (300, 'Koreatown'),\n",
       " (24, 'La Canada Flintridge'),\n",
       " (27, 'La Crescenta-Montrose'),\n",
       " (8, 'La Habra Heights'),\n",
       " (6, 'La Mirada'),\n",
       " (21, 'La Puente'),\n",
       " (24, 'La Verne'),\n",
       " (40, 'Ladera Heights'),\n",
       " (50, 'Lake Balboa'),\n",
       " (3, 'Lake Hughes'),\n",
       " (5, 'Lake Los Angeles'),\n",
       " (4, 'Lake View Terrace'),\n",
       " (33, 'Lakewood'),\n",
       " (120, 'Lancaster'),\n",
       " (52, 'Larchmont'),\n",
       " (69, 'Lawndale'),\n",
       " (28, 'Leimert Park'),\n",
       " (23, 'Lennox'),\n",
       " (1, 'Leona Valley'),\n",
       " (34, 'Lincoln Heights'),\n",
       " (21, 'Lomita'),\n",
       " (1116, 'Long Beach'),\n",
       " (1, 'Lopez/Kagel Canyons'),\n",
       " (209, 'Los Feliz'),\n",
       " (20, 'Lynwood'),\n",
       " (222, 'Malibu'),\n",
       " (10, 'Manchester Square'),\n",
       " (135, 'Manhattan Beach'),\n",
       " (228, 'Mar Vista'),\n",
       " (184, 'Marina del Rey'),\n",
       " (31, 'Mayflower Village'),\n",
       " (8, 'Maywood'),\n",
       " (287, 'Mid-City'),\n",
       " (310, 'Mid-Wilshire'),\n",
       " (5, 'Mission Hills'),\n",
       " (94, 'Monrovia'),\n",
       " (26, 'Montebello'),\n",
       " (50, 'Montecito Heights'),\n",
       " (170, 'Monterey Park'),\n",
       " (81, 'Mount Washington'),\n",
       " (12, 'North El Monte'),\n",
       " (27, 'North Hills'),\n",
       " (269, 'North Hollywood'),\n",
       " (3, 'North Whittier'),\n",
       " (7, 'Northeast Antelope Valley'),\n",
       " (68, 'Northridge'),\n",
       " (11, 'Northwest Palmdale'),\n",
       " (42, 'Norwalk'),\n",
       " (109, 'Pacific Palisades'),\n",
       " (10, 'Pacoima'),\n",
       " (68, 'Palmdale'),\n",
       " (166, 'Palms'),\n",
       " (6, 'Palos Verdes Estates'),\n",
       " (19, 'Panorama City'),\n",
       " (9, 'Paramount'),\n",
       " (330, 'Pasadena'),\n",
       " (26, 'Pico Rivera'),\n",
       " (104, 'Pico-Robertson'),\n",
       " (65, 'Pico-Union'),\n",
       " (54, 'Playa Vista'),\n",
       " (82, 'Playa del Rey'),\n",
       " (98, 'Pomona'),\n",
       " (12, 'Porter Ranch'),\n",
       " (12, 'Quartz Hill'),\n",
       " (4, 'Rancho Dominguez'),\n",
       " (58, 'Rancho Palos Verdes'),\n",
       " (20, 'Rancho Park'),\n",
       " (263, 'Redondo Beach'),\n",
       " (84, 'Reseda'),\n",
       " (4, 'Ridge Route'),\n",
       " (5, 'Rolling Hills'),\n",
       " (5, 'Rolling Hills Estates'),\n",
       " (80, 'Rosemead'),\n",
       " (389, 'Rowland Heights'),\n",
       " (27, 'San Dimas'),\n",
       " (8, 'San Fernando'),\n",
       " (90, 'San Gabriel'),\n",
       " (6, 'San Marino'),\n",
       " (15, 'San Pasqual'),\n",
       " (74, 'San Pedro'),\n",
       " (105, 'Santa Clarita'),\n",
       " (2, 'Santa Fe Springs'),\n",
       " (858, 'Santa Monica'),\n",
       " (338, 'Sawtelle'),\n",
       " (2, 'Sepulveda Basin'),\n",
       " (19, 'Shadow Hills'),\n",
       " (282, 'Sherman Oaks'),\n",
       " (23, 'Sierra Madre'),\n",
       " (30, 'Signal Hill'),\n",
       " (403, 'Silver Lake'),\n",
       " (2, 'South El Monte'),\n",
       " (12, 'South Gate'),\n",
       " (11, 'South Park'),\n",
       " (64, 'South Pasadena'),\n",
       " (21, 'South San Gabriel'),\n",
       " (6, 'South San Jose Hills'),\n",
       " (13, 'South Whittier'),\n",
       " (9, 'Southeast Antelope Valley'),\n",
       " (5, 'Stevenson Ranch'),\n",
       " (223, 'Studio City'),\n",
       " (57, 'Sun Valley'),\n",
       " (5, 'Sun Village'),\n",
       " (6, 'Sunland'),\n",
       " (19, 'Sylmar'),\n",
       " (89, 'Tarzana'),\n",
       " (87, 'Temple City'),\n",
       " (37, 'Toluca Lake'),\n",
       " (250, 'Topanga'),\n",
       " (198, 'Torrance'),\n",
       " (15, 'Tujunga'),\n",
       " (2, 'Tujunga Canyons'),\n",
       " (19, 'Unincorporated Catalina Island'),\n",
       " (113, 'Unincorporated Santa Monica Mountains'),\n",
       " (11, 'Unincorporated Santa Susana Mountains'),\n",
       " (7, 'Universal City'),\n",
       " (57, 'University Park'),\n",
       " (5, 'Val Verde'),\n",
       " (18, 'Valinda'),\n",
       " (108, 'Valley Glen'),\n",
       " (114, 'Valley Village'),\n",
       " (135, 'Van Nuys'),\n",
       " (1264, 'Venice'),\n",
       " (23, 'Vermont Knolls'),\n",
       " (45, 'Vermont Square'),\n",
       " (5, 'Vermont Vista'),\n",
       " (12, 'Vermont-Slauson'),\n",
       " (5, 'Vernon'),\n",
       " (11, 'Veterans Administration'),\n",
       " (68, 'View Park-Windsor Hills'),\n",
       " (4, 'Vincent'),\n",
       " (49, 'Walnut'),\n",
       " (21, 'Watts'),\n",
       " (77, 'West Adams'),\n",
       " (28, 'West Carson'),\n",
       " (3, 'West Compton'),\n",
       " (107, 'West Covina'),\n",
       " (51, 'West Hills'),\n",
       " (480, 'West Hollywood'),\n",
       " (116, 'West Los Angeles'),\n",
       " (6, 'West Puente Valley'),\n",
       " (5, 'West Whittier-Los Nietos'),\n",
       " (151, 'Westchester'),\n",
       " (319, 'Westlake'),\n",
       " (5, 'Westlake Village'),\n",
       " (21, 'Westmont'),\n",
       " (267, 'Westwood'),\n",
       " (54, 'Whittier'),\n",
       " (19, 'Willowbrook'),\n",
       " (32, 'Wilmington'),\n",
       " (22, 'Windsor Square'),\n",
       " (59, 'Winnetka'),\n",
       " (191, 'Woodland Hills')]"
      ]
     },
     "execution_count": 98,
     "metadata": {},
     "output_type": "execute_result"
    }
   ],
   "source": [
    "%%sql\n",
    "select count(), neighbourhood_cleansed from listings_new group by neighbourhood_cleansed;"
   ]
  },
  {
   "cell_type": "markdown",
   "metadata": {},
   "source": [
    "# Final Counts after data cleansing\n",
    "\n",
    "One additional row was added to the regions table\n"
   ]
  },
  {
   "cell_type": "code",
   "execution_count": 99,
   "metadata": {},
   "outputs": [
    {
     "name": "stdout",
     "output_type": "stream",
     "text": [
      " * sqlite:///los_angeles_airbnb.db\n",
      "Done.\n"
     ]
    },
    {
     "data": {
      "text/html": [
       "<table>\n",
       "    <tr>\n",
       "        <th>count(*)</th>\n",
       "    </tr>\n",
       "    <tr>\n",
       "        <td>273</td>\n",
       "    </tr>\n",
       "</table>"
      ],
      "text/plain": [
       "[(273,)]"
      ]
     },
     "execution_count": 99,
     "metadata": {},
     "output_type": "execute_result"
    }
   ],
   "source": [
    "%%sql\n",
    "select count(*) from regions;"
   ]
  },
  {
   "cell_type": "code",
   "execution_count": 100,
   "metadata": {},
   "outputs": [
    {
     "name": "stdout",
     "output_type": "stream",
     "text": [
      " * sqlite:///los_angeles_airbnb.db\n",
      "Done.\n"
     ]
    },
    {
     "data": {
      "text/html": [
       "<table>\n",
       "    <tr>\n",
       "        <th>count(*)</th>\n",
       "    </tr>\n",
       "    <tr>\n",
       "        <td>23802</td>\n",
       "    </tr>\n",
       "</table>"
      ],
      "text/plain": [
       "[(23802,)]"
      ]
     },
     "execution_count": 100,
     "metadata": {},
     "output_type": "execute_result"
    }
   ],
   "source": [
    "%%sql\n",
    "select count(*) from listings_new;"
   ]
  },
  {
   "cell_type": "code",
   "execution_count": 101,
   "metadata": {},
   "outputs": [
    {
     "name": "stdout",
     "output_type": "stream",
     "text": [
      " * sqlite:///los_angeles_airbnb.db\n",
      "Done.\n"
     ]
    },
    {
     "data": {
      "text/html": [
       "<table>\n",
       "    <tr>\n",
       "        <th>count(*)</th>\n",
       "    </tr>\n",
       "    <tr>\n",
       "        <td>31596</td>\n",
       "    </tr>\n",
       "</table>"
      ],
      "text/plain": [
       "[(31596,)]"
      ]
     },
     "execution_count": 101,
     "metadata": {},
     "output_type": "execute_result"
    }
   ],
   "source": [
    "%%sql\n",
    "select count(*) from listings;"
   ]
  },
  {
   "cell_type": "code",
   "execution_count": null,
   "metadata": {
    "collapsed": true
   },
   "outputs": [],
   "source": [
    "# @out LA_airbnb.db_cleaned\n",
    "# @end check_all_tables"
   ]
  },
  {
   "cell_type": "markdown",
   "metadata": {},
   "source": [
    "# Further analysis"
   ]
  },
  {
   "cell_type": "markdown",
   "metadata": {},
   "source": [
    "# The target use case (U1) is to summarize the average price and average rating of Los Angeles Airbnb’s by type of room per neighborhood.\n",
    "\n",
    "# We would like to know which neighborhood has the least expensive and most expensive types of Airbnb’s by room type. \n",
    "\n",
    "# We would also like to calculate which neighborhood has the highest and lowest average ratings and how this corresponds with the average price"
   ]
  },
  {
   "cell_type": "markdown",
   "metadata": {},
   "source": [
    "Los Angeles Airbnb's sorted by average price.  Grouped by room type and region"
   ]
  },
  {
   "cell_type": "code",
   "execution_count": null,
   "metadata": {
    "collapsed": true
   },
   "outputs": [],
   "source": [
    "# @begin SQL_query\n",
    "# @in LA_airbnb.db_cleaned\n",
    "\n",
    "# @out average_price_based_on_region_and_room_type\n",
    "# @out average_rating_based_on_region_and_room_type"
   ]
  },
  {
   "cell_type": "code",
   "execution_count": 73,
   "metadata": {},
   "outputs": [
    {
     "name": "stdout",
     "output_type": "stream",
     "text": [
      " * sqlite:///los_angeles_airbnb.db\n",
      "Done.\n"
     ]
    },
    {
     "data": {
      "text/html": [
       "<table>\n",
       "    <tr>\n",
       "        <th>avg_price</th>\n",
       "        <th>avg_review_score</th>\n",
       "        <th>room_type</th>\n",
       "        <th>Region</th>\n",
       "    </tr>\n",
       "    <tr>\n",
       "        <td>9999.0</td>\n",
       "        <td>3.75</td>\n",
       "        <td>Hotel room</td>\n",
       "        <td>San Fernando Valley</td>\n",
       "    </tr>\n",
       "    <tr>\n",
       "        <td>840.76</td>\n",
       "        <td>4.76</td>\n",
       "        <td>Entire home/apt</td>\n",
       "        <td>Santa Monica Mountains</td>\n",
       "    </tr>\n",
       "    <tr>\n",
       "        <td>281.02</td>\n",
       "        <td>4.64</td>\n",
       "        <td>Entire home/apt</td>\n",
       "        <td>Westside</td>\n",
       "    </tr>\n",
       "    <tr>\n",
       "        <td>261.89</td>\n",
       "        <td>4.73</td>\n",
       "        <td>Entire home/apt</td>\n",
       "        <td>South Bay</td>\n",
       "    </tr>\n",
       "    <tr>\n",
       "        <td>257.38</td>\n",
       "        <td>4.73</td>\n",
       "        <td>Entire home/apt</td>\n",
       "        <td>San Fernando Valley</td>\n",
       "    </tr>\n",
       "    <tr>\n",
       "        <td>250.29</td>\n",
       "        <td>4.64</td>\n",
       "        <td>Entire home/apt</td>\n",
       "        <td>Central L.A.</td>\n",
       "    </tr>\n",
       "    <tr>\n",
       "        <td>237.01</td>\n",
       "        <td>4.79</td>\n",
       "        <td>Entire home/apt</td>\n",
       "        <td>Northwest County</td>\n",
       "    </tr>\n",
       "    <tr>\n",
       "        <td>232.87</td>\n",
       "        <td>4.66</td>\n",
       "        <td>Entire home/apt</td>\n",
       "        <td>Harbor</td>\n",
       "    </tr>\n",
       "    <tr>\n",
       "        <td>207.69</td>\n",
       "        <td>4.61</td>\n",
       "        <td>Entire home/apt</td>\n",
       "        <td>Southeast</td>\n",
       "    </tr>\n",
       "    <tr>\n",
       "        <td>205.88</td>\n",
       "        <td>4.74</td>\n",
       "        <td>Entire home/apt</td>\n",
       "        <td>Verdugos</td>\n",
       "    </tr>\n",
       "    <tr>\n",
       "        <td>198.75</td>\n",
       "        <td>4.89</td>\n",
       "        <td>Entire home/apt</td>\n",
       "        <td>Angeles Forest</td>\n",
       "    </tr>\n",
       "    <tr>\n",
       "        <td>194.22</td>\n",
       "        <td>4.33</td>\n",
       "        <td>Hotel room</td>\n",
       "        <td>Central L.A.</td>\n",
       "    </tr>\n",
       "    <tr>\n",
       "        <td>190.44</td>\n",
       "        <td>4.7</td>\n",
       "        <td>Entire home/apt</td>\n",
       "        <td>San Gabriel Valley</td>\n",
       "    </tr>\n",
       "    <tr>\n",
       "        <td>172.76</td>\n",
       "        <td>4.67</td>\n",
       "        <td>Entire home/apt</td>\n",
       "        <td>South L.A.</td>\n",
       "    </tr>\n",
       "    <tr>\n",
       "        <td>170.61</td>\n",
       "        <td>4.8</td>\n",
       "        <td>Entire home/apt</td>\n",
       "        <td>Northeast L.A.</td>\n",
       "    </tr>\n",
       "    <tr>\n",
       "        <td>169.85</td>\n",
       "        <td>4.81</td>\n",
       "        <td>Private room</td>\n",
       "        <td>Santa Monica Mountains</td>\n",
       "    </tr>\n",
       "    <tr>\n",
       "        <td>167.7</td>\n",
       "        <td>4.47</td>\n",
       "        <td>Hotel room</td>\n",
       "        <td>Westside</td>\n",
       "    </tr>\n",
       "    <tr>\n",
       "        <td>162.84</td>\n",
       "        <td>4.68</td>\n",
       "        <td>Entire home/apt</td>\n",
       "        <td>Antelope Valley</td>\n",
       "    </tr>\n",
       "    <tr>\n",
       "        <td>161.78</td>\n",
       "        <td>4.59</td>\n",
       "        <td>Entire home/apt</td>\n",
       "        <td>Pomona Valley</td>\n",
       "    </tr>\n",
       "    <tr>\n",
       "        <td>142.16</td>\n",
       "        <td>4.43</td>\n",
       "        <td>Hotel room</td>\n",
       "        <td>Harbor</td>\n",
       "    </tr>\n",
       "    <tr>\n",
       "        <td>141.4</td>\n",
       "        <td>4.68</td>\n",
       "        <td>Entire home/apt</td>\n",
       "        <td>Eastside</td>\n",
       "    </tr>\n",
       "    <tr>\n",
       "        <td>136.67</td>\n",
       "        <td>4.49</td>\n",
       "        <td>Hotel room</td>\n",
       "        <td>San Gabriel Valley</td>\n",
       "    </tr>\n",
       "    <tr>\n",
       "        <td>131.59</td>\n",
       "        <td>4.75</td>\n",
       "        <td>Private room</td>\n",
       "        <td>Verdugos</td>\n",
       "    </tr>\n",
       "    <tr>\n",
       "        <td>118.0</td>\n",
       "        <td>3.93</td>\n",
       "        <td>Hotel room</td>\n",
       "        <td>Northeast L.A.</td>\n",
       "    </tr>\n",
       "    <tr>\n",
       "        <td>117.89</td>\n",
       "        <td>4.7</td>\n",
       "        <td>Private room</td>\n",
       "        <td>Westside</td>\n",
       "    </tr>\n",
       "    <tr>\n",
       "        <td>107.0</td>\n",
       "        <td>4.58</td>\n",
       "        <td>Hotel room</td>\n",
       "        <td>South Bay</td>\n",
       "    </tr>\n",
       "    <tr>\n",
       "        <td>99.4</td>\n",
       "        <td>4.72</td>\n",
       "        <td>Private room</td>\n",
       "        <td>South Bay</td>\n",
       "    </tr>\n",
       "    <tr>\n",
       "        <td>95.34</td>\n",
       "        <td>4.73</td>\n",
       "        <td>Private room</td>\n",
       "        <td>Southeast</td>\n",
       "    </tr>\n",
       "    <tr>\n",
       "        <td>93.04</td>\n",
       "        <td>4.69</td>\n",
       "        <td>Private room</td>\n",
       "        <td>Central L.A.</td>\n",
       "    </tr>\n",
       "    <tr>\n",
       "        <td>90.5</td>\n",
       "        <td>4.78</td>\n",
       "        <td>Private room</td>\n",
       "        <td>San Fernando Valley</td>\n",
       "    </tr>\n",
       "    <tr>\n",
       "        <td>87.04</td>\n",
       "        <td>4.69</td>\n",
       "        <td>Private room</td>\n",
       "        <td>Harbor</td>\n",
       "    </tr>\n",
       "    <tr>\n",
       "        <td>84.5</td>\n",
       "        <td>3.98</td>\n",
       "        <td>Private room</td>\n",
       "        <td>Angeles Forest</td>\n",
       "    </tr>\n",
       "    <tr>\n",
       "        <td>73.54</td>\n",
       "        <td>4.69</td>\n",
       "        <td>Private room</td>\n",
       "        <td>San Gabriel Valley</td>\n",
       "    </tr>\n",
       "    <tr>\n",
       "        <td>70.0</td>\n",
       "        <td>4.14</td>\n",
       "        <td>Shared room</td>\n",
       "        <td>Verdugos</td>\n",
       "    </tr>\n",
       "    <tr>\n",
       "        <td>69.96</td>\n",
       "        <td>4.66</td>\n",
       "        <td>Private room</td>\n",
       "        <td>Northwest County</td>\n",
       "    </tr>\n",
       "    <tr>\n",
       "        <td>69.59</td>\n",
       "        <td>4.8</td>\n",
       "        <td>Private room</td>\n",
       "        <td>Northeast L.A.</td>\n",
       "    </tr>\n",
       "    <tr>\n",
       "        <td>67.08</td>\n",
       "        <td>4.52</td>\n",
       "        <td>Shared room</td>\n",
       "        <td>Westside</td>\n",
       "    </tr>\n",
       "    <tr>\n",
       "        <td>65.83</td>\n",
       "        <td>4.57</td>\n",
       "        <td>Private room</td>\n",
       "        <td>South L.A.</td>\n",
       "    </tr>\n",
       "    <tr>\n",
       "        <td>64.54</td>\n",
       "        <td>4.72</td>\n",
       "        <td>Private room</td>\n",
       "        <td>Eastside</td>\n",
       "    </tr>\n",
       "    <tr>\n",
       "        <td>56.13</td>\n",
       "        <td>4.38</td>\n",
       "        <td>Shared room</td>\n",
       "        <td>Eastside</td>\n",
       "    </tr>\n",
       "    <tr>\n",
       "        <td>54.23</td>\n",
       "        <td>4.73</td>\n",
       "        <td>Private room</td>\n",
       "        <td>Antelope Valley</td>\n",
       "    </tr>\n",
       "    <tr>\n",
       "        <td>54.11</td>\n",
       "        <td>4.75</td>\n",
       "        <td>Private room</td>\n",
       "        <td>Pomona Valley</td>\n",
       "    </tr>\n",
       "    <tr>\n",
       "        <td>53.0</td>\n",
       "        <td>4.55</td>\n",
       "        <td>Hotel room</td>\n",
       "        <td>Southeast</td>\n",
       "    </tr>\n",
       "    <tr>\n",
       "        <td>49.58</td>\n",
       "        <td>4.67</td>\n",
       "        <td>Shared room</td>\n",
       "        <td>San Gabriel Valley</td>\n",
       "    </tr>\n",
       "    <tr>\n",
       "        <td>45.83</td>\n",
       "        <td>4.51</td>\n",
       "        <td>Shared room</td>\n",
       "        <td>San Fernando Valley</td>\n",
       "    </tr>\n",
       "    <tr>\n",
       "        <td>45.75</td>\n",
       "        <td>4.13</td>\n",
       "        <td>Shared room</td>\n",
       "        <td>Southeast</td>\n",
       "    </tr>\n",
       "    <tr>\n",
       "        <td>45.0</td>\n",
       "        <td>5.0</td>\n",
       "        <td>Shared room</td>\n",
       "        <td>Northwest County</td>\n",
       "    </tr>\n",
       "    <tr>\n",
       "        <td>38.03</td>\n",
       "        <td>4.5</td>\n",
       "        <td>Shared room</td>\n",
       "        <td>Central L.A.</td>\n",
       "    </tr>\n",
       "    <tr>\n",
       "        <td>36.98</td>\n",
       "        <td>4.76</td>\n",
       "        <td>Shared room</td>\n",
       "        <td>South Bay</td>\n",
       "    </tr>\n",
       "    <tr>\n",
       "        <td>34.24</td>\n",
       "        <td>4.5</td>\n",
       "        <td>Shared room</td>\n",
       "        <td>Harbor</td>\n",
       "    </tr>\n",
       "    <tr>\n",
       "        <td>30.0</td>\n",
       "        <td>5.0</td>\n",
       "        <td>Shared room</td>\n",
       "        <td>Northeast L.A.</td>\n",
       "    </tr>\n",
       "    <tr>\n",
       "        <td>24.59</td>\n",
       "        <td>4.33</td>\n",
       "        <td>Shared room</td>\n",
       "        <td>South L.A.</td>\n",
       "    </tr>\n",
       "</table>"
      ],
      "text/plain": [
       "[(9999.0, 3.75, 'Hotel room', 'San Fernando Valley'),\n",
       " (840.76, 4.76, 'Entire home/apt', 'Santa Monica Mountains'),\n",
       " (281.02, 4.64, 'Entire home/apt', 'Westside'),\n",
       " (261.89, 4.73, 'Entire home/apt', 'South Bay'),\n",
       " (257.38, 4.73, 'Entire home/apt', 'San Fernando Valley'),\n",
       " (250.29, 4.64, 'Entire home/apt', 'Central L.A.'),\n",
       " (237.01, 4.79, 'Entire home/apt', 'Northwest County'),\n",
       " (232.87, 4.66, 'Entire home/apt', 'Harbor'),\n",
       " (207.69, 4.61, 'Entire home/apt', 'Southeast'),\n",
       " (205.88, 4.74, 'Entire home/apt', 'Verdugos'),\n",
       " (198.75, 4.89, 'Entire home/apt', 'Angeles Forest'),\n",
       " (194.22, 4.33, 'Hotel room', 'Central L.A.'),\n",
       " (190.44, 4.7, 'Entire home/apt', 'San Gabriel Valley'),\n",
       " (172.76, 4.67, 'Entire home/apt', 'South L.A.'),\n",
       " (170.61, 4.8, 'Entire home/apt', 'Northeast L.A.'),\n",
       " (169.85, 4.81, 'Private room', 'Santa Monica Mountains'),\n",
       " (167.7, 4.47, 'Hotel room', 'Westside'),\n",
       " (162.84, 4.68, 'Entire home/apt', 'Antelope Valley'),\n",
       " (161.78, 4.59, 'Entire home/apt', 'Pomona Valley'),\n",
       " (142.16, 4.43, 'Hotel room', 'Harbor'),\n",
       " (141.4, 4.68, 'Entire home/apt', 'Eastside'),\n",
       " (136.67, 4.49, 'Hotel room', 'San Gabriel Valley'),\n",
       " (131.59, 4.75, 'Private room', 'Verdugos'),\n",
       " (118.0, 3.93, 'Hotel room', 'Northeast L.A.'),\n",
       " (117.89, 4.7, 'Private room', 'Westside'),\n",
       " (107.0, 4.58, 'Hotel room', 'South Bay'),\n",
       " (99.4, 4.72, 'Private room', 'South Bay'),\n",
       " (95.34, 4.73, 'Private room', 'Southeast'),\n",
       " (93.04, 4.69, 'Private room', 'Central L.A.'),\n",
       " (90.5, 4.78, 'Private room', 'San Fernando Valley'),\n",
       " (87.04, 4.69, 'Private room', 'Harbor'),\n",
       " (84.5, 3.98, 'Private room', 'Angeles Forest'),\n",
       " (73.54, 4.69, 'Private room', 'San Gabriel Valley'),\n",
       " (70.0, 4.14, 'Shared room', 'Verdugos'),\n",
       " (69.96, 4.66, 'Private room', 'Northwest County'),\n",
       " (69.59, 4.8, 'Private room', 'Northeast L.A.'),\n",
       " (67.08, 4.52, 'Shared room', 'Westside'),\n",
       " (65.83, 4.57, 'Private room', 'South L.A.'),\n",
       " (64.54, 4.72, 'Private room', 'Eastside'),\n",
       " (56.13, 4.38, 'Shared room', 'Eastside'),\n",
       " (54.23, 4.73, 'Private room', 'Antelope Valley'),\n",
       " (54.11, 4.75, 'Private room', 'Pomona Valley'),\n",
       " (53.0, 4.55, 'Hotel room', 'Southeast'),\n",
       " (49.58, 4.67, 'Shared room', 'San Gabriel Valley'),\n",
       " (45.83, 4.51, 'Shared room', 'San Fernando Valley'),\n",
       " (45.75, 4.13, 'Shared room', 'Southeast'),\n",
       " (45.0, 5.0, 'Shared room', 'Northwest County'),\n",
       " (38.03, 4.5, 'Shared room', 'Central L.A.'),\n",
       " (36.98, 4.76, 'Shared room', 'South Bay'),\n",
       " (34.24, 4.5, 'Shared room', 'Harbor'),\n",
       " (30.0, 5.0, 'Shared room', 'Northeast L.A.'),\n",
       " (24.59, 4.33, 'Shared room', 'South L.A.')]"
      ]
     },
     "execution_count": 73,
     "metadata": {},
     "output_type": "execute_result"
    }
   ],
   "source": [
    "%%sql\n",
    "SELECT  round(avg(price_num),2) as avg_price, round(avg(review_scores_value),2) as avg_review_score, room_type ,region FROM listings_new\n",
    "LEFT JOIN regions on listings_new.neighbourhood_cleansed = regions.City  where review_scores_value is not null and price_num > 0\n",
    "group by room_type ,regions.region order by 1  desc\n",
    ";"
   ]
  },
  {
   "cell_type": "markdown",
   "metadata": {},
   "source": [
    "Los Angeles Airbnb's sorted by average review score.  Grouped by property type and region"
   ]
  },
  {
   "cell_type": "code",
   "execution_count": 74,
   "metadata": {},
   "outputs": [
    {
     "name": "stdout",
     "output_type": "stream",
     "text": [
      " * sqlite:///los_angeles_airbnb.db\n",
      "Done.\n"
     ]
    },
    {
     "data": {
      "text/html": [
       "<table>\n",
       "    <tr>\n",
       "        <th>avg_price</th>\n",
       "        <th>avg_review_score</th>\n",
       "        <th>room_type</th>\n",
       "        <th>Region</th>\n",
       "    </tr>\n",
       "    <tr>\n",
       "        <td>30.0</td>\n",
       "        <td>5.0</td>\n",
       "        <td>Shared room</td>\n",
       "        <td>Northeast L.A.</td>\n",
       "    </tr>\n",
       "    <tr>\n",
       "        <td>45.0</td>\n",
       "        <td>5.0</td>\n",
       "        <td>Shared room</td>\n",
       "        <td>Northwest County</td>\n",
       "    </tr>\n",
       "    <tr>\n",
       "        <td>198.75</td>\n",
       "        <td>4.89</td>\n",
       "        <td>Entire home/apt</td>\n",
       "        <td>Angeles Forest</td>\n",
       "    </tr>\n",
       "    <tr>\n",
       "        <td>169.85</td>\n",
       "        <td>4.81</td>\n",
       "        <td>Private room</td>\n",
       "        <td>Santa Monica Mountains</td>\n",
       "    </tr>\n",
       "    <tr>\n",
       "        <td>170.61</td>\n",
       "        <td>4.8</td>\n",
       "        <td>Entire home/apt</td>\n",
       "        <td>Northeast L.A.</td>\n",
       "    </tr>\n",
       "    <tr>\n",
       "        <td>69.59</td>\n",
       "        <td>4.8</td>\n",
       "        <td>Private room</td>\n",
       "        <td>Northeast L.A.</td>\n",
       "    </tr>\n",
       "    <tr>\n",
       "        <td>237.01</td>\n",
       "        <td>4.79</td>\n",
       "        <td>Entire home/apt</td>\n",
       "        <td>Northwest County</td>\n",
       "    </tr>\n",
       "    <tr>\n",
       "        <td>90.5</td>\n",
       "        <td>4.78</td>\n",
       "        <td>Private room</td>\n",
       "        <td>San Fernando Valley</td>\n",
       "    </tr>\n",
       "    <tr>\n",
       "        <td>840.76</td>\n",
       "        <td>4.76</td>\n",
       "        <td>Entire home/apt</td>\n",
       "        <td>Santa Monica Mountains</td>\n",
       "    </tr>\n",
       "    <tr>\n",
       "        <td>36.98</td>\n",
       "        <td>4.76</td>\n",
       "        <td>Shared room</td>\n",
       "        <td>South Bay</td>\n",
       "    </tr>\n",
       "    <tr>\n",
       "        <td>54.11</td>\n",
       "        <td>4.75</td>\n",
       "        <td>Private room</td>\n",
       "        <td>Pomona Valley</td>\n",
       "    </tr>\n",
       "    <tr>\n",
       "        <td>131.59</td>\n",
       "        <td>4.75</td>\n",
       "        <td>Private room</td>\n",
       "        <td>Verdugos</td>\n",
       "    </tr>\n",
       "    <tr>\n",
       "        <td>205.88</td>\n",
       "        <td>4.74</td>\n",
       "        <td>Entire home/apt</td>\n",
       "        <td>Verdugos</td>\n",
       "    </tr>\n",
       "    <tr>\n",
       "        <td>257.38</td>\n",
       "        <td>4.73</td>\n",
       "        <td>Entire home/apt</td>\n",
       "        <td>San Fernando Valley</td>\n",
       "    </tr>\n",
       "    <tr>\n",
       "        <td>261.89</td>\n",
       "        <td>4.73</td>\n",
       "        <td>Entire home/apt</td>\n",
       "        <td>South Bay</td>\n",
       "    </tr>\n",
       "    <tr>\n",
       "        <td>54.23</td>\n",
       "        <td>4.73</td>\n",
       "        <td>Private room</td>\n",
       "        <td>Antelope Valley</td>\n",
       "    </tr>\n",
       "    <tr>\n",
       "        <td>95.34</td>\n",
       "        <td>4.73</td>\n",
       "        <td>Private room</td>\n",
       "        <td>Southeast</td>\n",
       "    </tr>\n",
       "    <tr>\n",
       "        <td>64.54</td>\n",
       "        <td>4.72</td>\n",
       "        <td>Private room</td>\n",
       "        <td>Eastside</td>\n",
       "    </tr>\n",
       "    <tr>\n",
       "        <td>99.4</td>\n",
       "        <td>4.72</td>\n",
       "        <td>Private room</td>\n",
       "        <td>South Bay</td>\n",
       "    </tr>\n",
       "    <tr>\n",
       "        <td>190.44</td>\n",
       "        <td>4.7</td>\n",
       "        <td>Entire home/apt</td>\n",
       "        <td>San Gabriel Valley</td>\n",
       "    </tr>\n",
       "    <tr>\n",
       "        <td>117.89</td>\n",
       "        <td>4.7</td>\n",
       "        <td>Private room</td>\n",
       "        <td>Westside</td>\n",
       "    </tr>\n",
       "    <tr>\n",
       "        <td>93.04</td>\n",
       "        <td>4.69</td>\n",
       "        <td>Private room</td>\n",
       "        <td>Central L.A.</td>\n",
       "    </tr>\n",
       "    <tr>\n",
       "        <td>87.04</td>\n",
       "        <td>4.69</td>\n",
       "        <td>Private room</td>\n",
       "        <td>Harbor</td>\n",
       "    </tr>\n",
       "    <tr>\n",
       "        <td>73.54</td>\n",
       "        <td>4.69</td>\n",
       "        <td>Private room</td>\n",
       "        <td>San Gabriel Valley</td>\n",
       "    </tr>\n",
       "    <tr>\n",
       "        <td>162.84</td>\n",
       "        <td>4.68</td>\n",
       "        <td>Entire home/apt</td>\n",
       "        <td>Antelope Valley</td>\n",
       "    </tr>\n",
       "    <tr>\n",
       "        <td>141.4</td>\n",
       "        <td>4.68</td>\n",
       "        <td>Entire home/apt</td>\n",
       "        <td>Eastside</td>\n",
       "    </tr>\n",
       "    <tr>\n",
       "        <td>172.76</td>\n",
       "        <td>4.67</td>\n",
       "        <td>Entire home/apt</td>\n",
       "        <td>South L.A.</td>\n",
       "    </tr>\n",
       "    <tr>\n",
       "        <td>49.58</td>\n",
       "        <td>4.67</td>\n",
       "        <td>Shared room</td>\n",
       "        <td>San Gabriel Valley</td>\n",
       "    </tr>\n",
       "    <tr>\n",
       "        <td>232.87</td>\n",
       "        <td>4.66</td>\n",
       "        <td>Entire home/apt</td>\n",
       "        <td>Harbor</td>\n",
       "    </tr>\n",
       "    <tr>\n",
       "        <td>69.96</td>\n",
       "        <td>4.66</td>\n",
       "        <td>Private room</td>\n",
       "        <td>Northwest County</td>\n",
       "    </tr>\n",
       "    <tr>\n",
       "        <td>250.29</td>\n",
       "        <td>4.64</td>\n",
       "        <td>Entire home/apt</td>\n",
       "        <td>Central L.A.</td>\n",
       "    </tr>\n",
       "    <tr>\n",
       "        <td>281.02</td>\n",
       "        <td>4.64</td>\n",
       "        <td>Entire home/apt</td>\n",
       "        <td>Westside</td>\n",
       "    </tr>\n",
       "    <tr>\n",
       "        <td>207.69</td>\n",
       "        <td>4.61</td>\n",
       "        <td>Entire home/apt</td>\n",
       "        <td>Southeast</td>\n",
       "    </tr>\n",
       "    <tr>\n",
       "        <td>161.78</td>\n",
       "        <td>4.59</td>\n",
       "        <td>Entire home/apt</td>\n",
       "        <td>Pomona Valley</td>\n",
       "    </tr>\n",
       "    <tr>\n",
       "        <td>107.0</td>\n",
       "        <td>4.58</td>\n",
       "        <td>Hotel room</td>\n",
       "        <td>South Bay</td>\n",
       "    </tr>\n",
       "    <tr>\n",
       "        <td>65.83</td>\n",
       "        <td>4.57</td>\n",
       "        <td>Private room</td>\n",
       "        <td>South L.A.</td>\n",
       "    </tr>\n",
       "    <tr>\n",
       "        <td>53.0</td>\n",
       "        <td>4.55</td>\n",
       "        <td>Hotel room</td>\n",
       "        <td>Southeast</td>\n",
       "    </tr>\n",
       "    <tr>\n",
       "        <td>67.08</td>\n",
       "        <td>4.52</td>\n",
       "        <td>Shared room</td>\n",
       "        <td>Westside</td>\n",
       "    </tr>\n",
       "    <tr>\n",
       "        <td>45.83</td>\n",
       "        <td>4.51</td>\n",
       "        <td>Shared room</td>\n",
       "        <td>San Fernando Valley</td>\n",
       "    </tr>\n",
       "    <tr>\n",
       "        <td>38.03</td>\n",
       "        <td>4.5</td>\n",
       "        <td>Shared room</td>\n",
       "        <td>Central L.A.</td>\n",
       "    </tr>\n",
       "    <tr>\n",
       "        <td>34.24</td>\n",
       "        <td>4.5</td>\n",
       "        <td>Shared room</td>\n",
       "        <td>Harbor</td>\n",
       "    </tr>\n",
       "    <tr>\n",
       "        <td>136.67</td>\n",
       "        <td>4.49</td>\n",
       "        <td>Hotel room</td>\n",
       "        <td>San Gabriel Valley</td>\n",
       "    </tr>\n",
       "    <tr>\n",
       "        <td>167.7</td>\n",
       "        <td>4.47</td>\n",
       "        <td>Hotel room</td>\n",
       "        <td>Westside</td>\n",
       "    </tr>\n",
       "    <tr>\n",
       "        <td>142.16</td>\n",
       "        <td>4.43</td>\n",
       "        <td>Hotel room</td>\n",
       "        <td>Harbor</td>\n",
       "    </tr>\n",
       "    <tr>\n",
       "        <td>56.13</td>\n",
       "        <td>4.38</td>\n",
       "        <td>Shared room</td>\n",
       "        <td>Eastside</td>\n",
       "    </tr>\n",
       "    <tr>\n",
       "        <td>194.22</td>\n",
       "        <td>4.33</td>\n",
       "        <td>Hotel room</td>\n",
       "        <td>Central L.A.</td>\n",
       "    </tr>\n",
       "    <tr>\n",
       "        <td>24.59</td>\n",
       "        <td>4.33</td>\n",
       "        <td>Shared room</td>\n",
       "        <td>South L.A.</td>\n",
       "    </tr>\n",
       "    <tr>\n",
       "        <td>70.0</td>\n",
       "        <td>4.14</td>\n",
       "        <td>Shared room</td>\n",
       "        <td>Verdugos</td>\n",
       "    </tr>\n",
       "    <tr>\n",
       "        <td>45.75</td>\n",
       "        <td>4.13</td>\n",
       "        <td>Shared room</td>\n",
       "        <td>Southeast</td>\n",
       "    </tr>\n",
       "    <tr>\n",
       "        <td>84.5</td>\n",
       "        <td>3.98</td>\n",
       "        <td>Private room</td>\n",
       "        <td>Angeles Forest</td>\n",
       "    </tr>\n",
       "    <tr>\n",
       "        <td>118.0</td>\n",
       "        <td>3.93</td>\n",
       "        <td>Hotel room</td>\n",
       "        <td>Northeast L.A.</td>\n",
       "    </tr>\n",
       "    <tr>\n",
       "        <td>9999.0</td>\n",
       "        <td>3.75</td>\n",
       "        <td>Hotel room</td>\n",
       "        <td>San Fernando Valley</td>\n",
       "    </tr>\n",
       "</table>"
      ],
      "text/plain": [
       "[(30.0, 5.0, 'Shared room', 'Northeast L.A.'),\n",
       " (45.0, 5.0, 'Shared room', 'Northwest County'),\n",
       " (198.75, 4.89, 'Entire home/apt', 'Angeles Forest'),\n",
       " (169.85, 4.81, 'Private room', 'Santa Monica Mountains'),\n",
       " (170.61, 4.8, 'Entire home/apt', 'Northeast L.A.'),\n",
       " (69.59, 4.8, 'Private room', 'Northeast L.A.'),\n",
       " (237.01, 4.79, 'Entire home/apt', 'Northwest County'),\n",
       " (90.5, 4.78, 'Private room', 'San Fernando Valley'),\n",
       " (840.76, 4.76, 'Entire home/apt', 'Santa Monica Mountains'),\n",
       " (36.98, 4.76, 'Shared room', 'South Bay'),\n",
       " (54.11, 4.75, 'Private room', 'Pomona Valley'),\n",
       " (131.59, 4.75, 'Private room', 'Verdugos'),\n",
       " (205.88, 4.74, 'Entire home/apt', 'Verdugos'),\n",
       " (257.38, 4.73, 'Entire home/apt', 'San Fernando Valley'),\n",
       " (261.89, 4.73, 'Entire home/apt', 'South Bay'),\n",
       " (54.23, 4.73, 'Private room', 'Antelope Valley'),\n",
       " (95.34, 4.73, 'Private room', 'Southeast'),\n",
       " (64.54, 4.72, 'Private room', 'Eastside'),\n",
       " (99.4, 4.72, 'Private room', 'South Bay'),\n",
       " (190.44, 4.7, 'Entire home/apt', 'San Gabriel Valley'),\n",
       " (117.89, 4.7, 'Private room', 'Westside'),\n",
       " (93.04, 4.69, 'Private room', 'Central L.A.'),\n",
       " (87.04, 4.69, 'Private room', 'Harbor'),\n",
       " (73.54, 4.69, 'Private room', 'San Gabriel Valley'),\n",
       " (162.84, 4.68, 'Entire home/apt', 'Antelope Valley'),\n",
       " (141.4, 4.68, 'Entire home/apt', 'Eastside'),\n",
       " (172.76, 4.67, 'Entire home/apt', 'South L.A.'),\n",
       " (49.58, 4.67, 'Shared room', 'San Gabriel Valley'),\n",
       " (232.87, 4.66, 'Entire home/apt', 'Harbor'),\n",
       " (69.96, 4.66, 'Private room', 'Northwest County'),\n",
       " (250.29, 4.64, 'Entire home/apt', 'Central L.A.'),\n",
       " (281.02, 4.64, 'Entire home/apt', 'Westside'),\n",
       " (207.69, 4.61, 'Entire home/apt', 'Southeast'),\n",
       " (161.78, 4.59, 'Entire home/apt', 'Pomona Valley'),\n",
       " (107.0, 4.58, 'Hotel room', 'South Bay'),\n",
       " (65.83, 4.57, 'Private room', 'South L.A.'),\n",
       " (53.0, 4.55, 'Hotel room', 'Southeast'),\n",
       " (67.08, 4.52, 'Shared room', 'Westside'),\n",
       " (45.83, 4.51, 'Shared room', 'San Fernando Valley'),\n",
       " (38.03, 4.5, 'Shared room', 'Central L.A.'),\n",
       " (34.24, 4.5, 'Shared room', 'Harbor'),\n",
       " (136.67, 4.49, 'Hotel room', 'San Gabriel Valley'),\n",
       " (167.7, 4.47, 'Hotel room', 'Westside'),\n",
       " (142.16, 4.43, 'Hotel room', 'Harbor'),\n",
       " (56.13, 4.38, 'Shared room', 'Eastside'),\n",
       " (194.22, 4.33, 'Hotel room', 'Central L.A.'),\n",
       " (24.59, 4.33, 'Shared room', 'South L.A.'),\n",
       " (70.0, 4.14, 'Shared room', 'Verdugos'),\n",
       " (45.75, 4.13, 'Shared room', 'Southeast'),\n",
       " (84.5, 3.98, 'Private room', 'Angeles Forest'),\n",
       " (118.0, 3.93, 'Hotel room', 'Northeast L.A.'),\n",
       " (9999.0, 3.75, 'Hotel room', 'San Fernando Valley')]"
      ]
     },
     "execution_count": 74,
     "metadata": {},
     "output_type": "execute_result"
    }
   ],
   "source": [
    "%%sql\n",
    "SELECT  round(avg(price_num),2) as avg_price, round(avg(review_scores_value),2) as avg_review_score, room_type ,region\n",
    "FROM listings_new\n",
    "LEFT JOIN regions on listings_new.neighbourhood_cleansed = regions.City  where review_scores_value is not null and price_num > 0\n",
    "group by room_type ,regions.region order by 2  desc\n",
    ";"
   ]
  },
  {
   "cell_type": "markdown",
   "metadata": {},
   "source": [
    "Regions with highest and lowest average review scores"
   ]
  },
  {
   "cell_type": "code",
   "execution_count": null,
   "metadata": {
    "collapsed": true
   },
   "outputs": [],
   "source": [
    "# @out average_price_based_on_region \n",
    "# @out average_rating_based_on_region"
   ]
  },
  {
   "cell_type": "code",
   "execution_count": 75,
   "metadata": {},
   "outputs": [
    {
     "name": "stdout",
     "output_type": "stream",
     "text": [
      " * sqlite:///los_angeles_airbnb.db\n",
      "Done.\n"
     ]
    },
    {
     "data": {
      "text/html": [
       "<table>\n",
       "    <tr>\n",
       "        <th>avg_price</th>\n",
       "        <th>avg_review_score</th>\n",
       "        <th>Region</th>\n",
       "    </tr>\n",
       "    <tr>\n",
       "        <td>150.35</td>\n",
       "        <td>4.8</td>\n",
       "        <td>Northeast L.A.</td>\n",
       "    </tr>\n",
       "    <tr>\n",
       "        <td>728.44</td>\n",
       "        <td>4.77</td>\n",
       "        <td>Santa Monica Mountains</td>\n",
       "    </tr>\n",
       "    <tr>\n",
       "        <td>165.15</td>\n",
       "        <td>4.74</td>\n",
       "        <td>Northwest County</td>\n",
       "    </tr>\n",
       "    <tr>\n",
       "        <td>214.26</td>\n",
       "        <td>4.74</td>\n",
       "        <td>San Fernando Valley</td>\n",
       "    </tr>\n",
       "    <tr>\n",
       "        <td>186.63</td>\n",
       "        <td>4.74</td>\n",
       "        <td>Verdugos</td>\n",
       "    </tr>\n",
       "    <tr>\n",
       "        <td>92.8</td>\n",
       "        <td>4.72</td>\n",
       "        <td>Antelope Valley</td>\n",
       "    </tr>\n",
       "    <tr>\n",
       "        <td>197.41</td>\n",
       "        <td>4.72</td>\n",
       "        <td>South Bay</td>\n",
       "    </tr>\n",
       "    <tr>\n",
       "        <td>122.08</td>\n",
       "        <td>4.69</td>\n",
       "        <td>San Gabriel Valley</td>\n",
       "    </tr>\n",
       "    <tr>\n",
       "        <td>118.5</td>\n",
       "        <td>4.68</td>\n",
       "        <td>Eastside</td>\n",
       "    </tr>\n",
       "    <tr>\n",
       "        <td>104.01</td>\n",
       "        <td>4.68</td>\n",
       "        <td>Pomona Valley</td>\n",
       "    </tr>\n",
       "    <tr>\n",
       "        <td>189.42</td>\n",
       "        <td>4.66</td>\n",
       "        <td>Harbor</td>\n",
       "    </tr>\n",
       "    <tr>\n",
       "        <td>147.82</td>\n",
       "        <td>4.66</td>\n",
       "        <td>Southeast</td>\n",
       "    </tr>\n",
       "    <tr>\n",
       "        <td>212.38</td>\n",
       "        <td>4.65</td>\n",
       "        <td>Central L.A.</td>\n",
       "    </tr>\n",
       "    <tr>\n",
       "        <td>244.57</td>\n",
       "        <td>4.65</td>\n",
       "        <td>Westside</td>\n",
       "    </tr>\n",
       "    <tr>\n",
       "        <td>116.33</td>\n",
       "        <td>4.58</td>\n",
       "        <td>South L.A.</td>\n",
       "    </tr>\n",
       "    <tr>\n",
       "        <td>141.62</td>\n",
       "        <td>4.43</td>\n",
       "        <td>Angeles Forest</td>\n",
       "    </tr>\n",
       "</table>"
      ],
      "text/plain": [
       "[(150.35, 4.8, 'Northeast L.A.'),\n",
       " (728.44, 4.77, 'Santa Monica Mountains'),\n",
       " (165.15, 4.74, 'Northwest County'),\n",
       " (214.26, 4.74, 'San Fernando Valley'),\n",
       " (186.63, 4.74, 'Verdugos'),\n",
       " (92.8, 4.72, 'Antelope Valley'),\n",
       " (197.41, 4.72, 'South Bay'),\n",
       " (122.08, 4.69, 'San Gabriel Valley'),\n",
       " (118.5, 4.68, 'Eastside'),\n",
       " (104.01, 4.68, 'Pomona Valley'),\n",
       " (189.42, 4.66, 'Harbor'),\n",
       " (147.82, 4.66, 'Southeast'),\n",
       " (212.38, 4.65, 'Central L.A.'),\n",
       " (244.57, 4.65, 'Westside'),\n",
       " (116.33, 4.58, 'South L.A.'),\n",
       " (141.62, 4.43, 'Angeles Forest')]"
      ]
     },
     "execution_count": 75,
     "metadata": {},
     "output_type": "execute_result"
    }
   ],
   "source": [
    "%%sql\n",
    "SELECT  round(avg(price_num),2) as avg_price, round(avg(review_scores_value),2) as avg_review_score, region FROM listings_new\n",
    "LEFT JOIN regions on listings_new.neighbourhood_cleansed = regions.City  where review_scores_value is not null and price_num > 0\n",
    "group by regions.region order by 2 desc\n",
    ";"
   ]
  },
  {
   "cell_type": "markdown",
   "metadata": {},
   "source": [
    "Regions with highest and lowest average price"
   ]
  },
  {
   "cell_type": "code",
   "execution_count": 76,
   "metadata": {},
   "outputs": [
    {
     "name": "stdout",
     "output_type": "stream",
     "text": [
      " * sqlite:///los_angeles_airbnb.db\n",
      "Done.\n"
     ]
    },
    {
     "data": {
      "text/html": [
       "<table>\n",
       "    <tr>\n",
       "        <th>avg_price</th>\n",
       "        <th>avg_review_score</th>\n",
       "        <th>Region</th>\n",
       "    </tr>\n",
       "    <tr>\n",
       "        <td>728.44</td>\n",
       "        <td>4.77</td>\n",
       "        <td>Santa Monica Mountains</td>\n",
       "    </tr>\n",
       "    <tr>\n",
       "        <td>244.57</td>\n",
       "        <td>4.65</td>\n",
       "        <td>Westside</td>\n",
       "    </tr>\n",
       "    <tr>\n",
       "        <td>214.26</td>\n",
       "        <td>4.74</td>\n",
       "        <td>San Fernando Valley</td>\n",
       "    </tr>\n",
       "    <tr>\n",
       "        <td>212.38</td>\n",
       "        <td>4.65</td>\n",
       "        <td>Central L.A.</td>\n",
       "    </tr>\n",
       "    <tr>\n",
       "        <td>197.41</td>\n",
       "        <td>4.72</td>\n",
       "        <td>South Bay</td>\n",
       "    </tr>\n",
       "    <tr>\n",
       "        <td>189.42</td>\n",
       "        <td>4.66</td>\n",
       "        <td>Harbor</td>\n",
       "    </tr>\n",
       "    <tr>\n",
       "        <td>186.63</td>\n",
       "        <td>4.74</td>\n",
       "        <td>Verdugos</td>\n",
       "    </tr>\n",
       "    <tr>\n",
       "        <td>165.15</td>\n",
       "        <td>4.74</td>\n",
       "        <td>Northwest County</td>\n",
       "    </tr>\n",
       "    <tr>\n",
       "        <td>150.35</td>\n",
       "        <td>4.8</td>\n",
       "        <td>Northeast L.A.</td>\n",
       "    </tr>\n",
       "    <tr>\n",
       "        <td>147.82</td>\n",
       "        <td>4.66</td>\n",
       "        <td>Southeast</td>\n",
       "    </tr>\n",
       "    <tr>\n",
       "        <td>141.62</td>\n",
       "        <td>4.43</td>\n",
       "        <td>Angeles Forest</td>\n",
       "    </tr>\n",
       "    <tr>\n",
       "        <td>122.08</td>\n",
       "        <td>4.69</td>\n",
       "        <td>San Gabriel Valley</td>\n",
       "    </tr>\n",
       "    <tr>\n",
       "        <td>118.5</td>\n",
       "        <td>4.68</td>\n",
       "        <td>Eastside</td>\n",
       "    </tr>\n",
       "    <tr>\n",
       "        <td>116.33</td>\n",
       "        <td>4.58</td>\n",
       "        <td>South L.A.</td>\n",
       "    </tr>\n",
       "    <tr>\n",
       "        <td>104.01</td>\n",
       "        <td>4.68</td>\n",
       "        <td>Pomona Valley</td>\n",
       "    </tr>\n",
       "    <tr>\n",
       "        <td>92.8</td>\n",
       "        <td>4.72</td>\n",
       "        <td>Antelope Valley</td>\n",
       "    </tr>\n",
       "</table>"
      ],
      "text/plain": [
       "[(728.44, 4.77, 'Santa Monica Mountains'),\n",
       " (244.57, 4.65, 'Westside'),\n",
       " (214.26, 4.74, 'San Fernando Valley'),\n",
       " (212.38, 4.65, 'Central L.A.'),\n",
       " (197.41, 4.72, 'South Bay'),\n",
       " (189.42, 4.66, 'Harbor'),\n",
       " (186.63, 4.74, 'Verdugos'),\n",
       " (165.15, 4.74, 'Northwest County'),\n",
       " (150.35, 4.8, 'Northeast L.A.'),\n",
       " (147.82, 4.66, 'Southeast'),\n",
       " (141.62, 4.43, 'Angeles Forest'),\n",
       " (122.08, 4.69, 'San Gabriel Valley'),\n",
       " (118.5, 4.68, 'Eastside'),\n",
       " (116.33, 4.58, 'South L.A.'),\n",
       " (104.01, 4.68, 'Pomona Valley'),\n",
       " (92.8, 4.72, 'Antelope Valley')]"
      ]
     },
     "execution_count": 76,
     "metadata": {},
     "output_type": "execute_result"
    }
   ],
   "source": [
    "%%sql\n",
    "SELECT  round(avg(price_num),2) as avg_price, round(avg(review_scores_value),2) as avg_review_score, region FROM listings_new\n",
    "LEFT JOIN regions on listings_new.neighbourhood_cleansed = regions.City  where review_scores_value is not null and price_num > 0\n",
    "group by regions.region order by 1  desc   \n",
    ";"
   ]
  },
  {
   "cell_type": "code",
   "execution_count": 80,
   "metadata": {
    "collapsed": true
   },
   "outputs": [],
   "source": [
    "query = \"select * from listings_new\"\n",
    "\n",
    "df_listings= pd.read_sql(query, con_2)"
   ]
  },
  {
   "cell_type": "code",
   "execution_count": 81,
   "metadata": {
    "collapsed": true
   },
   "outputs": [],
   "source": [
    "gfg_csv_data = df_listings.to_csv('listings_new.csv', index = True)"
   ]
  },
  {
   "cell_type": "code",
   "execution_count": null,
   "metadata": {
    "collapsed": true
   },
   "outputs": [],
   "source": [
    "# @end SQL_query\n",
    "\n",
    "# @out average_price_based_on_region_and_room_type\n",
    "# @out average_rating_based_on_region_and_room_type\n",
    "# @out average_price_based_on_region \n",
    "# @out average_rating_based_on_region\n",
    "# @end LA_AirBnB"
   ]
  }
 ],
 "metadata": {
  "kernelspec": {
   "display_name": "Python 3",
   "language": "python",
   "name": "python3"
  },
  "language_info": {
   "codemirror_mode": {
    "name": "ipython",
    "version": 3
   },
   "file_extension": ".py",
   "mimetype": "text/x-python",
   "name": "python",
   "nbconvert_exporter": "python",
   "pygments_lexer": "ipython3",
   "version": "3.6.3"
  }
 },
 "nbformat": 4,
 "nbformat_minor": 2
}
